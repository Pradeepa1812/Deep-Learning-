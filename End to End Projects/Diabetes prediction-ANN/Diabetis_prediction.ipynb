{
  "nbformat": 4,
  "nbformat_minor": 0,
  "metadata": {
    "colab": {
      "name": "Diabetis prediction",
      "provenance": [],
      "collapsed_sections": []
    },
    "kernelspec": {
      "name": "python3",
      "display_name": "Python 3"
    },
    "accelerator": "GPU"
  },
  "cells": [
    {
      "cell_type": "code",
      "metadata": {
        "id": "ssypB_JG_-oh"
      },
      "source": [
        "import numpy as np\n",
        "import pandas as pd\n",
        "import matplotlib.pyplot as plt\n",
        "import seaborn as sns"
      ],
      "execution_count": null,
      "outputs": []
    },
    {
      "cell_type": "code",
      "metadata": {
        "id": "CMygfxvlAMD1",
        "outputId": "b2db8fa7-366c-416f-a400-2d647e700c33",
        "colab": {
          "base_uri": "https://localhost:8080/",
          "height": 204
        }
      },
      "source": [
        "data=pd.read_csv('/content/diabetes2.csv')\n",
        "data.head()"
      ],
      "execution_count": null,
      "outputs": [
        {
          "output_type": "execute_result",
          "data": {
            "text/html": [
              "<div>\n",
              "<style scoped>\n",
              "    .dataframe tbody tr th:only-of-type {\n",
              "        vertical-align: middle;\n",
              "    }\n",
              "\n",
              "    .dataframe tbody tr th {\n",
              "        vertical-align: top;\n",
              "    }\n",
              "\n",
              "    .dataframe thead th {\n",
              "        text-align: right;\n",
              "    }\n",
              "</style>\n",
              "<table border=\"1\" class=\"dataframe\">\n",
              "  <thead>\n",
              "    <tr style=\"text-align: right;\">\n",
              "      <th></th>\n",
              "      <th>Pregnancies</th>\n",
              "      <th>Glucose</th>\n",
              "      <th>BloodPressure</th>\n",
              "      <th>SkinThickness</th>\n",
              "      <th>Insulin</th>\n",
              "      <th>BMI</th>\n",
              "      <th>DiabetesPedigreeFunction</th>\n",
              "      <th>Age</th>\n",
              "      <th>Outcome</th>\n",
              "    </tr>\n",
              "  </thead>\n",
              "  <tbody>\n",
              "    <tr>\n",
              "      <th>0</th>\n",
              "      <td>6</td>\n",
              "      <td>148</td>\n",
              "      <td>72</td>\n",
              "      <td>35</td>\n",
              "      <td>0</td>\n",
              "      <td>33.6</td>\n",
              "      <td>0.627</td>\n",
              "      <td>50</td>\n",
              "      <td>1</td>\n",
              "    </tr>\n",
              "    <tr>\n",
              "      <th>1</th>\n",
              "      <td>1</td>\n",
              "      <td>85</td>\n",
              "      <td>66</td>\n",
              "      <td>29</td>\n",
              "      <td>0</td>\n",
              "      <td>26.6</td>\n",
              "      <td>0.351</td>\n",
              "      <td>31</td>\n",
              "      <td>0</td>\n",
              "    </tr>\n",
              "    <tr>\n",
              "      <th>2</th>\n",
              "      <td>8</td>\n",
              "      <td>183</td>\n",
              "      <td>64</td>\n",
              "      <td>0</td>\n",
              "      <td>0</td>\n",
              "      <td>23.3</td>\n",
              "      <td>0.672</td>\n",
              "      <td>32</td>\n",
              "      <td>1</td>\n",
              "    </tr>\n",
              "    <tr>\n",
              "      <th>3</th>\n",
              "      <td>1</td>\n",
              "      <td>89</td>\n",
              "      <td>66</td>\n",
              "      <td>23</td>\n",
              "      <td>94</td>\n",
              "      <td>28.1</td>\n",
              "      <td>0.167</td>\n",
              "      <td>21</td>\n",
              "      <td>0</td>\n",
              "    </tr>\n",
              "    <tr>\n",
              "      <th>4</th>\n",
              "      <td>0</td>\n",
              "      <td>137</td>\n",
              "      <td>40</td>\n",
              "      <td>35</td>\n",
              "      <td>168</td>\n",
              "      <td>43.1</td>\n",
              "      <td>2.288</td>\n",
              "      <td>33</td>\n",
              "      <td>1</td>\n",
              "    </tr>\n",
              "  </tbody>\n",
              "</table>\n",
              "</div>"
            ],
            "text/plain": [
              "   Pregnancies  Glucose  BloodPressure  ...  DiabetesPedigreeFunction  Age  Outcome\n",
              "0            6      148             72  ...                     0.627   50        1\n",
              "1            1       85             66  ...                     0.351   31        0\n",
              "2            8      183             64  ...                     0.672   32        1\n",
              "3            1       89             66  ...                     0.167   21        0\n",
              "4            0      137             40  ...                     2.288   33        1\n",
              "\n",
              "[5 rows x 9 columns]"
            ]
          },
          "metadata": {
            "tags": []
          },
          "execution_count": 2
        }
      ]
    },
    {
      "cell_type": "code",
      "metadata": {
        "id": "EJeMR5_9AX4e",
        "outputId": "b917f8d9-4013-433c-89b4-8f2c9a74ddec",
        "colab": {
          "base_uri": "https://localhost:8080/",
          "height": 289
        }
      },
      "source": [
        "data.info()"
      ],
      "execution_count": null,
      "outputs": [
        {
          "output_type": "stream",
          "text": [
            "<class 'pandas.core.frame.DataFrame'>\n",
            "RangeIndex: 768 entries, 0 to 767\n",
            "Data columns (total 9 columns):\n",
            " #   Column                    Non-Null Count  Dtype  \n",
            "---  ------                    --------------  -----  \n",
            " 0   Pregnancies               768 non-null    int64  \n",
            " 1   Glucose                   768 non-null    int64  \n",
            " 2   BloodPressure             768 non-null    int64  \n",
            " 3   SkinThickness             768 non-null    int64  \n",
            " 4   Insulin                   768 non-null    int64  \n",
            " 5   BMI                       768 non-null    float64\n",
            " 6   DiabetesPedigreeFunction  768 non-null    float64\n",
            " 7   Age                       768 non-null    int64  \n",
            " 8   Outcome                   768 non-null    int64  \n",
            "dtypes: float64(2), int64(7)\n",
            "memory usage: 54.1 KB\n"
          ],
          "name": "stdout"
        }
      ]
    },
    {
      "cell_type": "code",
      "metadata": {
        "id": "Zv_Jtj82sfwf"
      },
      "source": [
        "data[['Glucose','BloodPressure','SkinThickness','Insulin','BMI']] = data[['Glucose','BloodPressure','SkinThickness','Insulin','BMI']].replace(0,np.NaN)\n"
      ],
      "execution_count": null,
      "outputs": []
    },
    {
      "cell_type": "code",
      "metadata": {
        "id": "BAMOz7iNrd36"
      },
      "source": [
        "data['Glucose'].fillna(data['Glucose'].mean(), inplace=True)\n",
        "data['BloodPressure'].fillna(data['BloodPressure'].mean(), inplace=True)\n",
        "data['SkinThickness'].fillna(data['SkinThickness'].median(), inplace=True)\n",
        "data['Insulin'].fillna(data['Insulin'].median(), inplace=True)\n",
        "data['BMI'].fillna(data['BMI'].median(), inplace=True)"
      ],
      "execution_count": null,
      "outputs": []
    },
    {
      "cell_type": "code",
      "metadata": {
        "id": "4puh7ApjDUu3",
        "outputId": "7a4c9c7a-bbb9-4ce4-d9ea-c12ce13d962b",
        "colab": {
          "base_uri": "https://localhost:8080/",
          "height": 68
        }
      },
      "source": [
        "data.columns"
      ],
      "execution_count": null,
      "outputs": [
        {
          "output_type": "execute_result",
          "data": {
            "text/plain": [
              "Index(['Pregnancies', 'Glucose', 'BloodPressure', 'SkinThickness', 'Insulin',\n",
              "       'BMI', 'DiabetesPedigreeFunction', 'Age', 'Outcome'],\n",
              "      dtype='object')"
            ]
          },
          "metadata": {
            "tags": []
          },
          "execution_count": 6
        }
      ]
    },
    {
      "cell_type": "code",
      "metadata": {
        "id": "Cj57qBxOAqeb",
        "outputId": "62f8acef-127f-4593-e6af-a4ab0d41088d",
        "colab": {
          "base_uri": "https://localhost:8080/",
          "height": 34
        }
      },
      "source": [
        "data.shape"
      ],
      "execution_count": null,
      "outputs": [
        {
          "output_type": "execute_result",
          "data": {
            "text/plain": [
              "(768, 9)"
            ]
          },
          "metadata": {
            "tags": []
          },
          "execution_count": 7
        }
      ]
    },
    {
      "cell_type": "code",
      "metadata": {
        "id": "14kDtZmjAvTl",
        "outputId": "24e9360c-f4fd-489d-cc60-c10c00b35335",
        "colab": {
          "base_uri": "https://localhost:8080/",
          "height": 348
        }
      },
      "source": [
        "data.corr()"
      ],
      "execution_count": null,
      "outputs": [
        {
          "output_type": "execute_result",
          "data": {
            "text/html": [
              "<div>\n",
              "<style scoped>\n",
              "    .dataframe tbody tr th:only-of-type {\n",
              "        vertical-align: middle;\n",
              "    }\n",
              "\n",
              "    .dataframe tbody tr th {\n",
              "        vertical-align: top;\n",
              "    }\n",
              "\n",
              "    .dataframe thead th {\n",
              "        text-align: right;\n",
              "    }\n",
              "</style>\n",
              "<table border=\"1\" class=\"dataframe\">\n",
              "  <thead>\n",
              "    <tr style=\"text-align: right;\">\n",
              "      <th></th>\n",
              "      <th>Pregnancies</th>\n",
              "      <th>Glucose</th>\n",
              "      <th>BloodPressure</th>\n",
              "      <th>SkinThickness</th>\n",
              "      <th>Insulin</th>\n",
              "      <th>BMI</th>\n",
              "      <th>DiabetesPedigreeFunction</th>\n",
              "      <th>Age</th>\n",
              "      <th>Outcome</th>\n",
              "    </tr>\n",
              "  </thead>\n",
              "  <tbody>\n",
              "    <tr>\n",
              "      <th>Pregnancies</th>\n",
              "      <td>1.000000</td>\n",
              "      <td>0.127911</td>\n",
              "      <td>0.208522</td>\n",
              "      <td>0.081770</td>\n",
              "      <td>0.025047</td>\n",
              "      <td>0.021559</td>\n",
              "      <td>-0.033523</td>\n",
              "      <td>0.544341</td>\n",
              "      <td>0.221898</td>\n",
              "    </tr>\n",
              "    <tr>\n",
              "      <th>Glucose</th>\n",
              "      <td>0.127911</td>\n",
              "      <td>1.000000</td>\n",
              "      <td>0.218367</td>\n",
              "      <td>0.192686</td>\n",
              "      <td>0.419064</td>\n",
              "      <td>0.231128</td>\n",
              "      <td>0.137060</td>\n",
              "      <td>0.266534</td>\n",
              "      <td>0.492928</td>\n",
              "    </tr>\n",
              "    <tr>\n",
              "      <th>BloodPressure</th>\n",
              "      <td>0.208522</td>\n",
              "      <td>0.218367</td>\n",
              "      <td>1.000000</td>\n",
              "      <td>0.191853</td>\n",
              "      <td>0.045087</td>\n",
              "      <td>0.281199</td>\n",
              "      <td>-0.002763</td>\n",
              "      <td>0.324595</td>\n",
              "      <td>0.166074</td>\n",
              "    </tr>\n",
              "    <tr>\n",
              "      <th>SkinThickness</th>\n",
              "      <td>0.081770</td>\n",
              "      <td>0.192686</td>\n",
              "      <td>0.191853</td>\n",
              "      <td>1.000000</td>\n",
              "      <td>0.155610</td>\n",
              "      <td>0.543205</td>\n",
              "      <td>0.102188</td>\n",
              "      <td>0.126107</td>\n",
              "      <td>0.214873</td>\n",
              "    </tr>\n",
              "    <tr>\n",
              "      <th>Insulin</th>\n",
              "      <td>0.025047</td>\n",
              "      <td>0.419064</td>\n",
              "      <td>0.045087</td>\n",
              "      <td>0.155610</td>\n",
              "      <td>1.000000</td>\n",
              "      <td>0.180241</td>\n",
              "      <td>0.126503</td>\n",
              "      <td>0.097101</td>\n",
              "      <td>0.203790</td>\n",
              "    </tr>\n",
              "    <tr>\n",
              "      <th>BMI</th>\n",
              "      <td>0.021559</td>\n",
              "      <td>0.231128</td>\n",
              "      <td>0.281199</td>\n",
              "      <td>0.543205</td>\n",
              "      <td>0.180241</td>\n",
              "      <td>1.000000</td>\n",
              "      <td>0.153438</td>\n",
              "      <td>0.025597</td>\n",
              "      <td>0.312038</td>\n",
              "    </tr>\n",
              "    <tr>\n",
              "      <th>DiabetesPedigreeFunction</th>\n",
              "      <td>-0.033523</td>\n",
              "      <td>0.137060</td>\n",
              "      <td>-0.002763</td>\n",
              "      <td>0.102188</td>\n",
              "      <td>0.126503</td>\n",
              "      <td>0.153438</td>\n",
              "      <td>1.000000</td>\n",
              "      <td>0.033561</td>\n",
              "      <td>0.173844</td>\n",
              "    </tr>\n",
              "    <tr>\n",
              "      <th>Age</th>\n",
              "      <td>0.544341</td>\n",
              "      <td>0.266534</td>\n",
              "      <td>0.324595</td>\n",
              "      <td>0.126107</td>\n",
              "      <td>0.097101</td>\n",
              "      <td>0.025597</td>\n",
              "      <td>0.033561</td>\n",
              "      <td>1.000000</td>\n",
              "      <td>0.238356</td>\n",
              "    </tr>\n",
              "    <tr>\n",
              "      <th>Outcome</th>\n",
              "      <td>0.221898</td>\n",
              "      <td>0.492928</td>\n",
              "      <td>0.166074</td>\n",
              "      <td>0.214873</td>\n",
              "      <td>0.203790</td>\n",
              "      <td>0.312038</td>\n",
              "      <td>0.173844</td>\n",
              "      <td>0.238356</td>\n",
              "      <td>1.000000</td>\n",
              "    </tr>\n",
              "  </tbody>\n",
              "</table>\n",
              "</div>"
            ],
            "text/plain": [
              "                          Pregnancies   Glucose  ...       Age   Outcome\n",
              "Pregnancies                  1.000000  0.127911  ...  0.544341  0.221898\n",
              "Glucose                      0.127911  1.000000  ...  0.266534  0.492928\n",
              "BloodPressure                0.208522  0.218367  ...  0.324595  0.166074\n",
              "SkinThickness                0.081770  0.192686  ...  0.126107  0.214873\n",
              "Insulin                      0.025047  0.419064  ...  0.097101  0.203790\n",
              "BMI                          0.021559  0.231128  ...  0.025597  0.312038\n",
              "DiabetesPedigreeFunction    -0.033523  0.137060  ...  0.033561  0.173844\n",
              "Age                          0.544341  0.266534  ...  1.000000  0.238356\n",
              "Outcome                      0.221898  0.492928  ...  0.238356  1.000000\n",
              "\n",
              "[9 rows x 9 columns]"
            ]
          },
          "metadata": {
            "tags": []
          },
          "execution_count": 8
        }
      ]
    },
    {
      "cell_type": "code",
      "metadata": {
        "id": "9AQoPE9MBj1O",
        "outputId": "bf893313-58a1-4b77-f21e-d2d1ac242ff7",
        "colab": {
          "base_uri": "https://localhost:8080/",
          "height": 375
        }
      },
      "source": [
        "plt.figure(figsize=(15,8))\n",
        "sns.boxplot(x='Age',y='BMI',data=data)"
      ],
      "execution_count": null,
      "outputs": [
        {
          "output_type": "execute_result",
          "data": {
            "text/plain": [
              "<matplotlib.axes._subplots.AxesSubplot at 0x7fb287be2eb8>"
            ]
          },
          "metadata": {
            "tags": []
          },
          "execution_count": 9
        },
        {
          "output_type": "display_data",
          "data": {
            "image/png": "[encoded data removed]",
            "text/plain": [
              "<Figure size 1080x576 with 1 Axes>"
            ]
          },
          "metadata": {
            "tags": [],
            "needs_background": "light"
          }
        }
      ]
    },
    {
      "cell_type": "code",
      "metadata": {
        "id": "PPh0eZRRB3e4",
        "outputId": "20f466f9-9ef0-4e25-c060-060a07406929",
        "colab": {
          "base_uri": "https://localhost:8080/",
          "height": 275
        }
      },
      "source": [
        "X=data.iloc[:,0:-1]\n",
        "print(X)"
      ],
      "execution_count": null,
      "outputs": [
        {
          "output_type": "stream",
          "text": [
            "     Pregnancies  Glucose  BloodPressure  ...   BMI  DiabetesPedigreeFunction  Age\n",
            "0              6    148.0           72.0  ...  33.6                     0.627   50\n",
            "1              1     85.0           66.0  ...  26.6                     0.351   31\n",
            "2              8    183.0           64.0  ...  23.3                     0.672   32\n",
            "3              1     89.0           66.0  ...  28.1                     0.167   21\n",
            "4              0    137.0           40.0  ...  43.1                     2.288   33\n",
            "..           ...      ...            ...  ...   ...                       ...  ...\n",
            "763           10    101.0           76.0  ...  32.9                     0.171   63\n",
            "764            2    122.0           70.0  ...  36.8                     0.340   27\n",
            "765            5    121.0           72.0  ...  26.2                     0.245   30\n",
            "766            1    126.0           60.0  ...  30.1                     0.349   47\n",
            "767            1     93.0           70.0  ...  30.4                     0.315   23\n",
            "\n",
            "[768 rows x 8 columns]\n"
          ],
          "name": "stdout"
        }
      ]
    },
    {
      "cell_type": "code",
      "metadata": {
        "id": "x-sWQhETCSv8",
        "outputId": "9fbe22c7-e8f2-4f06-8824-a8d5ae626d5e",
        "colab": {
          "base_uri": "https://localhost:8080/",
          "height": 221
        }
      },
      "source": [
        "y=data.iloc[:,-1]\n",
        "print(y)"
      ],
      "execution_count": null,
      "outputs": [
        {
          "output_type": "stream",
          "text": [
            "0      1\n",
            "1      0\n",
            "2      1\n",
            "3      0\n",
            "4      1\n",
            "      ..\n",
            "763    0\n",
            "764    0\n",
            "765    0\n",
            "766    1\n",
            "767    0\n",
            "Name: Outcome, Length: 768, dtype: int64\n"
          ],
          "name": "stdout"
        }
      ]
    },
    {
      "cell_type": "code",
      "metadata": {
        "id": "9x9kkZtnCz0H",
        "outputId": "4b28281e-ac7e-450b-9425-8638dde97cf0",
        "colab": {
          "base_uri": "https://localhost:8080/",
          "height": 187
        }
      },
      "source": [
        "data.isnull().any()"
      ],
      "execution_count": null,
      "outputs": [
        {
          "output_type": "execute_result",
          "data": {
            "text/plain": [
              "Pregnancies                 False\n",
              "Glucose                     False\n",
              "BloodPressure               False\n",
              "SkinThickness               False\n",
              "Insulin                     False\n",
              "BMI                         False\n",
              "DiabetesPedigreeFunction    False\n",
              "Age                         False\n",
              "Outcome                     False\n",
              "dtype: bool"
            ]
          },
          "metadata": {
            "tags": []
          },
          "execution_count": 12
        }
      ]
    },
    {
      "cell_type": "code",
      "metadata": {
        "id": "VXhFHhyzsIbs",
        "outputId": "50fc0c78-b46b-46a5-8723-c1d442bdee7e",
        "colab": {
          "base_uri": "https://localhost:8080/",
          "height": 221
        }
      },
      "source": [
        "data['Insulin'].value_counts()"
      ],
      "execution_count": null,
      "outputs": [
        {
          "output_type": "execute_result",
          "data": {
            "text/plain": [
              "125.0    378\n",
              "105.0     11\n",
              "130.0      9\n",
              "140.0      9\n",
              "120.0      8\n",
              "        ... \n",
              "272.0      1\n",
              "41.0       1\n",
              "25.0       1\n",
              "600.0      1\n",
              "59.0       1\n",
              "Name: Insulin, Length: 185, dtype: int64"
            ]
          },
          "metadata": {
            "tags": []
          },
          "execution_count": 13
        }
      ]
    },
    {
      "cell_type": "code",
      "metadata": {
        "id": "QaxZbr0EDcn6"
      },
      "source": [
        "from sklearn.model_selection import train_test_split,GridSearchCV\n",
        "X_train,X_test,y_train,y_test=train_test_split(X,y,test_size=0.3,random_state=101)"
      ],
      "execution_count": null,
      "outputs": []
    },
    {
      "cell_type": "code",
      "metadata": {
        "id": "LH-NVHRldhTu"
      },
      "source": [
        ""
      ],
      "execution_count": null,
      "outputs": []
    },
    {
      "cell_type": "code",
      "metadata": {
        "id": "dhYeizzoEcaT"
      },
      "source": [
        "import keras\n",
        "from tensorflow.keras.models import Sequential\n",
        "from tensorflow.keras.layers import Dense,Dropout"
      ],
      "execution_count": null,
      "outputs": []
    },
    {
      "cell_type": "code",
      "metadata": {
        "id": "kcKJUXJ6E3tf",
        "outputId": "8bc23913-ffe5-47e3-ba58-4c2a1d4a8a36",
        "colab": {
          "base_uri": "https://localhost:8080/",
          "height": 34
        }
      },
      "source": [
        "X_train.shape"
      ],
      "execution_count": null,
      "outputs": [
        {
          "output_type": "execute_result",
          "data": {
            "text/plain": [
              "(537, 8)"
            ]
          },
          "metadata": {
            "tags": []
          },
          "execution_count": 17
        }
      ]
    },
    {
      "cell_type": "code",
      "metadata": {
        "id": "oAR6twIgE5vD"
      },
      "source": [
        "model=Sequential()\n",
        "model.add(Dense(500,activation='tanh',kernel_regularizer='l1_l2',kernel_initializer='Zeros',input_dim=X_train.shape[1]))\n",
        "model.add(Dense(1,activation='sigmoid'))\n"
      ],
      "execution_count": null,
      "outputs": []
    },
    {
      "cell_type": "code",
      "metadata": {
        "id": "skgfqyscFmAJ",
        "outputId": "39b1c733-2d50-435c-cb3e-7585120d394c",
        "colab": {
          "base_uri": "https://localhost:8080/",
          "height": 221
        }
      },
      "source": [
        "model.summary()"
      ],
      "execution_count": null,
      "outputs": [
        {
          "output_type": "stream",
          "text": [
            "Model: \"sequential\"\n",
            "_________________________________________________________________\n",
            "Layer (type)                 Output Shape              Param #   \n",
            "=================================================================\n",
            "dense (Dense)                (None, 500)               4500      \n",
            "_________________________________________________________________\n",
            "dense_1 (Dense)              (None, 1)                 501       \n",
            "=================================================================\n",
            "Total params: 5,001\n",
            "Trainable params: 5,001\n",
            "Non-trainable params: 0\n",
            "_________________________________________________________________\n"
          ],
          "name": "stdout"
        }
      ]
    },
    {
      "cell_type": "code",
      "metadata": {
        "id": "3XdoyXV2Fxp8"
      },
      "source": [
        "model.compile(optimizer='Adam',loss='binary_crossentropy',metrics=['accuracy'])"
      ],
      "execution_count": null,
      "outputs": []
    },
    {
      "cell_type": "code",
      "metadata": {
        "id": "a8eptQeFGIFG",
        "outputId": "8299458a-2a5f-445a-dd40-c26a8ce73bb9",
        "colab": {
          "base_uri": "https://localhost:8080/",
          "height": 1000
        }
      },
      "source": [
        "model.fit(X_train,y_train,epochs=250,batch_size=60,validation_split=0.4)"
      ],
      "execution_count": null,
      "outputs": [
        {
          "output_type": "stream",
          "text": [
            "Epoch 1/250\n",
            "6/6 [==============================] - 0s 29ms/step - loss: 2.5251 - accuracy: 0.6273 - val_loss: 1.4595 - val_accuracy: 0.3581\n",
            "Epoch 2/250\n",
            "6/6 [==============================] - 0s 7ms/step - loss: 1.2771 - accuracy: 0.5901 - val_loss: 1.0938 - val_accuracy: 0.3581\n",
            "Epoch 3/250\n",
            "6/6 [==============================] - 0s 5ms/step - loss: 1.0668 - accuracy: 0.5031 - val_loss: 1.1823 - val_accuracy: 0.6419\n",
            "Epoch 4/250\n",
            "6/6 [==============================] - 0s 5ms/step - loss: 0.9050 - accuracy: 0.5404 - val_loss: 0.6891 - val_accuracy: 0.6558\n",
            "Epoch 5/250\n",
            "6/6 [==============================] - 0s 6ms/step - loss: 0.7379 - accuracy: 0.6615 - val_loss: 0.8045 - val_accuracy: 0.5070\n",
            "Epoch 6/250\n",
            "6/6 [==============================] - 0s 5ms/step - loss: 0.7317 - accuracy: 0.6056 - val_loss: 0.7523 - val_accuracy: 0.6419\n",
            "Epoch 7/250\n",
            "6/6 [==============================] - 0s 5ms/step - loss: 0.6901 - accuracy: 0.6366 - val_loss: 0.6375 - val_accuracy: 0.6558\n",
            "Epoch 8/250\n",
            "6/6 [==============================] - 0s 5ms/step - loss: 0.6148 - accuracy: 0.7019 - val_loss: 0.6246 - val_accuracy: 0.6512\n",
            "Epoch 9/250\n",
            "6/6 [==============================] - 0s 5ms/step - loss: 0.6247 - accuracy: 0.7050 - val_loss: 0.6207 - val_accuracy: 0.6791\n",
            "Epoch 10/250\n",
            "6/6 [==============================] - 0s 5ms/step - loss: 0.5980 - accuracy: 0.7143 - val_loss: 0.6317 - val_accuracy: 0.6465\n",
            "Epoch 11/250\n",
            "6/6 [==============================] - 0s 5ms/step - loss: 0.6049 - accuracy: 0.6988 - val_loss: 0.6506 - val_accuracy: 0.6651\n",
            "Epoch 12/250\n",
            "6/6 [==============================] - 0s 5ms/step - loss: 0.6273 - accuracy: 0.6988 - val_loss: 0.6224 - val_accuracy: 0.6884\n",
            "Epoch 13/250\n",
            "6/6 [==============================] - 0s 5ms/step - loss: 0.6236 - accuracy: 0.7019 - val_loss: 0.7477 - val_accuracy: 0.6047\n",
            "Epoch 14/250\n",
            "6/6 [==============================] - 0s 5ms/step - loss: 0.6956 - accuracy: 0.6149 - val_loss: 0.6919 - val_accuracy: 0.6558\n",
            "Epoch 15/250\n",
            "6/6 [==============================] - 0s 6ms/step - loss: 0.6837 - accuracy: 0.6273 - val_loss: 0.6656 - val_accuracy: 0.6651\n",
            "Epoch 16/250\n",
            "6/6 [==============================] - 0s 6ms/step - loss: 0.6064 - accuracy: 0.7019 - val_loss: 0.6221 - val_accuracy: 0.6977\n",
            "Epoch 17/250\n",
            "6/6 [==============================] - 0s 6ms/step - loss: 0.5985 - accuracy: 0.7298 - val_loss: 0.6272 - val_accuracy: 0.6558\n",
            "Epoch 18/250\n",
            "6/6 [==============================] - 0s 6ms/step - loss: 0.5985 - accuracy: 0.7143 - val_loss: 0.6581 - val_accuracy: 0.6651\n",
            "Epoch 19/250\n",
            "6/6 [==============================] - 0s 6ms/step - loss: 0.6130 - accuracy: 0.6925 - val_loss: 0.6252 - val_accuracy: 0.6977\n",
            "Epoch 20/250\n",
            "6/6 [==============================] - 0s 6ms/step - loss: 0.6115 - accuracy: 0.7081 - val_loss: 0.6256 - val_accuracy: 0.6930\n",
            "Epoch 21/250\n",
            "6/6 [==============================] - 0s 5ms/step - loss: 0.6012 - accuracy: 0.6894 - val_loss: 0.6327 - val_accuracy: 0.6651\n",
            "Epoch 22/250\n",
            "6/6 [==============================] - 0s 5ms/step - loss: 0.5968 - accuracy: 0.7050 - val_loss: 0.6220 - val_accuracy: 0.6651\n",
            "Epoch 23/250\n",
            "6/6 [==============================] - 0s 8ms/step - loss: 0.5998 - accuracy: 0.7143 - val_loss: 0.6189 - val_accuracy: 0.6558\n",
            "Epoch 24/250\n",
            "6/6 [==============================] - 0s 6ms/step - loss: 0.6059 - accuracy: 0.7050 - val_loss: 0.6153 - val_accuracy: 0.6884\n",
            "Epoch 25/250\n",
            "6/6 [==============================] - 0s 6ms/step - loss: 0.6016 - accuracy: 0.7174 - val_loss: 0.7431 - val_accuracy: 0.6512\n",
            "Epoch 26/250\n",
            "6/6 [==============================] - 0s 6ms/step - loss: 0.6814 - accuracy: 0.6398 - val_loss: 0.7519 - val_accuracy: 0.6512\n",
            "Epoch 27/250\n",
            "6/6 [==============================] - 0s 6ms/step - loss: 0.7005 - accuracy: 0.6366 - val_loss: 0.6194 - val_accuracy: 0.6558\n",
            "Epoch 28/250\n",
            "6/6 [==============================] - 0s 6ms/step - loss: 0.6416 - accuracy: 0.6957 - val_loss: 0.6220 - val_accuracy: 0.6930\n",
            "Epoch 29/250\n",
            "6/6 [==============================] - 0s 6ms/step - loss: 0.6456 - accuracy: 0.6770 - val_loss: 0.6503 - val_accuracy: 0.6791\n",
            "Epoch 30/250\n",
            "6/6 [==============================] - 0s 5ms/step - loss: 0.6041 - accuracy: 0.7236 - val_loss: 0.6176 - val_accuracy: 0.6698\n",
            "Epoch 31/250\n",
            "6/6 [==============================] - 0s 6ms/step - loss: 0.5935 - accuracy: 0.7236 - val_loss: 0.6148 - val_accuracy: 0.6651\n",
            "Epoch 32/250\n",
            "6/6 [==============================] - 0s 5ms/step - loss: 0.6005 - accuracy: 0.7453 - val_loss: 0.6696 - val_accuracy: 0.6651\n",
            "Epoch 33/250\n",
            "6/6 [==============================] - 0s 5ms/step - loss: 0.6066 - accuracy: 0.7112 - val_loss: 0.6143 - val_accuracy: 0.6698\n",
            "Epoch 34/250\n",
            "6/6 [==============================] - 0s 5ms/step - loss: 0.5933 - accuracy: 0.6957 - val_loss: 0.6740 - val_accuracy: 0.6419\n",
            "Epoch 35/250\n",
            "6/6 [==============================] - 0s 5ms/step - loss: 0.6468 - accuracy: 0.6708 - val_loss: 0.8505 - val_accuracy: 0.6419\n",
            "Epoch 36/250\n",
            "6/6 [==============================] - 0s 5ms/step - loss: 0.6830 - accuracy: 0.6770 - val_loss: 0.6208 - val_accuracy: 0.6930\n",
            "Epoch 37/250\n",
            "6/6 [==============================] - 0s 5ms/step - loss: 0.6422 - accuracy: 0.6832 - val_loss: 0.6648 - val_accuracy: 0.6558\n",
            "Epoch 38/250\n",
            "6/6 [==============================] - 0s 5ms/step - loss: 0.6554 - accuracy: 0.6832 - val_loss: 0.6146 - val_accuracy: 0.6744\n",
            "Epoch 39/250\n",
            "6/6 [==============================] - 0s 5ms/step - loss: 0.6151 - accuracy: 0.7050 - val_loss: 0.6525 - val_accuracy: 0.6651\n",
            "Epoch 40/250\n",
            "6/6 [==============================] - 0s 5ms/step - loss: 0.6016 - accuracy: 0.7143 - val_loss: 0.6329 - val_accuracy: 0.7070\n",
            "Epoch 41/250\n",
            "6/6 [==============================] - 0s 5ms/step - loss: 0.6132 - accuracy: 0.7174 - val_loss: 0.6511 - val_accuracy: 0.6651\n",
            "Epoch 42/250\n",
            "6/6 [==============================] - 0s 5ms/step - loss: 0.6578 - accuracy: 0.6863 - val_loss: 0.6870 - val_accuracy: 0.6605\n",
            "Epoch 43/250\n",
            "6/6 [==============================] - 0s 5ms/step - loss: 0.6455 - accuracy: 0.6863 - val_loss: 0.6199 - val_accuracy: 0.6930\n",
            "Epoch 44/250\n",
            "6/6 [==============================] - 0s 5ms/step - loss: 0.6286 - accuracy: 0.6957 - val_loss: 0.6245 - val_accuracy: 0.6884\n",
            "Epoch 45/250\n",
            "6/6 [==============================] - 0s 5ms/step - loss: 0.6078 - accuracy: 0.6988 - val_loss: 0.6148 - val_accuracy: 0.6791\n",
            "Epoch 46/250\n",
            "6/6 [==============================] - 0s 6ms/step - loss: 0.6029 - accuracy: 0.7081 - val_loss: 0.6149 - val_accuracy: 0.6698\n",
            "Epoch 47/250\n",
            "6/6 [==============================] - 0s 6ms/step - loss: 0.5941 - accuracy: 0.7236 - val_loss: 0.6179 - val_accuracy: 0.6512\n",
            "Epoch 48/250\n",
            "6/6 [==============================] - 0s 6ms/step - loss: 0.6001 - accuracy: 0.7050 - val_loss: 0.6216 - val_accuracy: 0.6605\n",
            "Epoch 49/250\n",
            "6/6 [==============================] - 0s 5ms/step - loss: 0.5959 - accuracy: 0.7112 - val_loss: 0.6180 - val_accuracy: 0.6930\n",
            "Epoch 50/250\n",
            "6/6 [==============================] - 0s 6ms/step - loss: 0.6142 - accuracy: 0.6801 - val_loss: 0.6203 - val_accuracy: 0.6605\n",
            "Epoch 51/250\n",
            "6/6 [==============================] - 0s 5ms/step - loss: 0.6093 - accuracy: 0.7050 - val_loss: 0.6695 - val_accuracy: 0.6651\n",
            "Epoch 52/250\n",
            "6/6 [==============================] - 0s 5ms/step - loss: 0.6165 - accuracy: 0.6957 - val_loss: 0.6390 - val_accuracy: 0.6930\n",
            "Epoch 53/250\n",
            "6/6 [==============================] - 0s 5ms/step - loss: 0.6127 - accuracy: 0.7050 - val_loss: 0.6113 - val_accuracy: 0.6744\n",
            "Epoch 54/250\n",
            "6/6 [==============================] - 0s 5ms/step - loss: 0.5890 - accuracy: 0.7391 - val_loss: 0.6101 - val_accuracy: 0.6837\n",
            "Epoch 55/250\n",
            "6/6 [==============================] - 0s 5ms/step - loss: 0.5973 - accuracy: 0.7174 - val_loss: 0.6091 - val_accuracy: 0.6837\n",
            "Epoch 56/250\n",
            "6/6 [==============================] - 0s 5ms/step - loss: 0.5874 - accuracy: 0.7329 - val_loss: 0.6218 - val_accuracy: 0.7209\n",
            "Epoch 57/250\n",
            "6/6 [==============================] - 0s 5ms/step - loss: 0.5998 - accuracy: 0.7298 - val_loss: 0.6238 - val_accuracy: 0.6651\n",
            "Epoch 58/250\n",
            "6/6 [==============================] - 0s 5ms/step - loss: 0.5924 - accuracy: 0.7205 - val_loss: 0.6173 - val_accuracy: 0.6558\n",
            "Epoch 59/250\n",
            "6/6 [==============================] - 0s 6ms/step - loss: 0.6178 - accuracy: 0.7050 - val_loss: 0.7076 - val_accuracy: 0.6279\n",
            "Epoch 60/250\n",
            "6/6 [==============================] - 0s 5ms/step - loss: 0.6665 - accuracy: 0.6584 - val_loss: 0.6193 - val_accuracy: 0.6651\n",
            "Epoch 61/250\n",
            "6/6 [==============================] - 0s 5ms/step - loss: 0.6247 - accuracy: 0.6770 - val_loss: 0.6524 - val_accuracy: 0.6744\n",
            "Epoch 62/250\n",
            "6/6 [==============================] - 0s 5ms/step - loss: 0.6073 - accuracy: 0.6988 - val_loss: 0.6077 - val_accuracy: 0.6930\n",
            "Epoch 63/250\n",
            "6/6 [==============================] - 0s 5ms/step - loss: 0.5881 - accuracy: 0.7422 - val_loss: 0.6329 - val_accuracy: 0.6605\n",
            "Epoch 64/250\n",
            "6/6 [==============================] - 0s 5ms/step - loss: 0.5983 - accuracy: 0.7236 - val_loss: 0.6177 - val_accuracy: 0.6651\n",
            "Epoch 65/250\n",
            "6/6 [==============================] - 0s 5ms/step - loss: 0.5959 - accuracy: 0.7205 - val_loss: 0.6132 - val_accuracy: 0.6884\n",
            "Epoch 66/250\n",
            "6/6 [==============================] - 0s 5ms/step - loss: 0.5997 - accuracy: 0.7174 - val_loss: 0.6057 - val_accuracy: 0.6930\n",
            "Epoch 67/250\n",
            "6/6 [==============================] - 0s 5ms/step - loss: 0.5870 - accuracy: 0.7329 - val_loss: 0.6055 - val_accuracy: 0.6930\n",
            "Epoch 68/250\n",
            "6/6 [==============================] - 0s 5ms/step - loss: 0.5985 - accuracy: 0.7174 - val_loss: 0.6040 - val_accuracy: 0.6977\n",
            "Epoch 69/250\n",
            "6/6 [==============================] - 0s 6ms/step - loss: 0.5922 - accuracy: 0.7143 - val_loss: 0.6336 - val_accuracy: 0.6698\n",
            "Epoch 70/250\n",
            "6/6 [==============================] - 0s 6ms/step - loss: 0.5931 - accuracy: 0.7174 - val_loss: 0.6106 - val_accuracy: 0.6698\n",
            "Epoch 71/250\n",
            "6/6 [==============================] - 0s 6ms/step - loss: 0.5972 - accuracy: 0.7205 - val_loss: 0.6565 - val_accuracy: 0.6558\n",
            "Epoch 72/250\n",
            "6/6 [==============================] - 0s 6ms/step - loss: 0.6373 - accuracy: 0.6925 - val_loss: 0.6084 - val_accuracy: 0.6977\n",
            "Epoch 73/250\n",
            "6/6 [==============================] - 0s 5ms/step - loss: 0.5911 - accuracy: 0.7143 - val_loss: 0.6042 - val_accuracy: 0.6884\n",
            "Epoch 74/250\n",
            "6/6 [==============================] - 0s 5ms/step - loss: 0.5798 - accuracy: 0.7205 - val_loss: 0.6051 - val_accuracy: 0.6744\n",
            "Epoch 75/250\n",
            "6/6 [==============================] - 0s 5ms/step - loss: 0.5792 - accuracy: 0.7360 - val_loss: 0.6105 - val_accuracy: 0.6651\n",
            "Epoch 76/250\n",
            "6/6 [==============================] - 0s 5ms/step - loss: 0.5909 - accuracy: 0.7360 - val_loss: 0.6359 - val_accuracy: 0.6791\n",
            "Epoch 77/250\n",
            "6/6 [==============================] - 0s 6ms/step - loss: 0.5978 - accuracy: 0.7298 - val_loss: 0.6020 - val_accuracy: 0.6930\n",
            "Epoch 78/250\n",
            "6/6 [==============================] - 0s 5ms/step - loss: 0.5803 - accuracy: 0.7298 - val_loss: 0.6049 - val_accuracy: 0.6977\n",
            "Epoch 79/250\n",
            "6/6 [==============================] - 0s 5ms/step - loss: 0.5918 - accuracy: 0.7081 - val_loss: 0.5996 - val_accuracy: 0.7023\n",
            "Epoch 80/250\n",
            "6/6 [==============================] - 0s 5ms/step - loss: 0.6003 - accuracy: 0.7174 - val_loss: 0.7216 - val_accuracy: 0.6140\n",
            "Epoch 81/250\n",
            "6/6 [==============================] - 0s 5ms/step - loss: 0.7224 - accuracy: 0.6025 - val_loss: 0.8689 - val_accuracy: 0.6419\n",
            "Epoch 82/250\n",
            "6/6 [==============================] - 0s 5ms/step - loss: 0.6933 - accuracy: 0.6429 - val_loss: 0.6611 - val_accuracy: 0.6605\n",
            "Epoch 83/250\n",
            "6/6 [==============================] - 0s 5ms/step - loss: 0.7115 - accuracy: 0.6335 - val_loss: 0.6521 - val_accuracy: 0.6651\n",
            "Epoch 84/250\n",
            "6/6 [==============================] - 0s 5ms/step - loss: 0.7399 - accuracy: 0.5714 - val_loss: 0.7768 - val_accuracy: 0.6465\n",
            "Epoch 85/250\n",
            "6/6 [==============================] - 0s 5ms/step - loss: 0.7012 - accuracy: 0.6739 - val_loss: 0.6715 - val_accuracy: 0.6605\n",
            "Epoch 86/250\n",
            "6/6 [==============================] - 0s 6ms/step - loss: 0.6852 - accuracy: 0.6087 - val_loss: 0.6522 - val_accuracy: 0.6651\n",
            "Epoch 87/250\n",
            "6/6 [==============================] - 0s 5ms/step - loss: 0.6275 - accuracy: 0.6770 - val_loss: 0.6289 - val_accuracy: 0.6930\n",
            "Epoch 88/250\n",
            "6/6 [==============================] - 0s 5ms/step - loss: 0.6155 - accuracy: 0.7329 - val_loss: 0.6249 - val_accuracy: 0.6744\n",
            "Epoch 89/250\n",
            "6/6 [==============================] - 0s 5ms/step - loss: 0.6125 - accuracy: 0.7050 - val_loss: 0.6185 - val_accuracy: 0.6837\n",
            "Epoch 90/250\n",
            "6/6 [==============================] - 0s 5ms/step - loss: 0.6111 - accuracy: 0.7267 - val_loss: 0.6115 - val_accuracy: 0.6930\n",
            "Epoch 91/250\n",
            "6/6 [==============================] - 0s 5ms/step - loss: 0.6049 - accuracy: 0.7174 - val_loss: 0.6115 - val_accuracy: 0.6884\n",
            "Epoch 92/250\n",
            "6/6 [==============================] - 0s 5ms/step - loss: 0.5945 - accuracy: 0.7236 - val_loss: 0.6024 - val_accuracy: 0.6884\n",
            "Epoch 93/250\n",
            "6/6 [==============================] - 0s 5ms/step - loss: 0.5898 - accuracy: 0.7236 - val_loss: 0.6003 - val_accuracy: 0.6884\n",
            "Epoch 94/250\n",
            "6/6 [==============================] - 0s 5ms/step - loss: 0.5830 - accuracy: 0.7360 - val_loss: 0.5964 - val_accuracy: 0.7070\n",
            "Epoch 95/250\n",
            "6/6 [==============================] - 0s 5ms/step - loss: 0.5870 - accuracy: 0.7360 - val_loss: 0.5942 - val_accuracy: 0.6977\n",
            "Epoch 96/250\n",
            "6/6 [==============================] - 0s 5ms/step - loss: 0.5777 - accuracy: 0.7329 - val_loss: 0.5927 - val_accuracy: 0.6977\n",
            "Epoch 97/250\n",
            "6/6 [==============================] - 0s 5ms/step - loss: 0.5750 - accuracy: 0.7422 - val_loss: 0.6032 - val_accuracy: 0.6837\n",
            "Epoch 98/250\n",
            "6/6 [==============================] - 0s 5ms/step - loss: 0.5806 - accuracy: 0.7298 - val_loss: 0.5964 - val_accuracy: 0.7023\n",
            "Epoch 99/250\n",
            "6/6 [==============================] - 0s 5ms/step - loss: 0.5811 - accuracy: 0.7516 - val_loss: 0.6131 - val_accuracy: 0.6930\n",
            "Epoch 100/250\n",
            "6/6 [==============================] - 0s 5ms/step - loss: 0.5896 - accuracy: 0.7205 - val_loss: 0.5856 - val_accuracy: 0.7070\n",
            "Epoch 101/250\n",
            "6/6 [==============================] - 0s 5ms/step - loss: 0.5750 - accuracy: 0.7422 - val_loss: 0.6005 - val_accuracy: 0.6884\n",
            "Epoch 102/250\n",
            "6/6 [==============================] - 0s 5ms/step - loss: 0.5752 - accuracy: 0.7329 - val_loss: 0.5819 - val_accuracy: 0.7209\n",
            "Epoch 103/250\n",
            "6/6 [==============================] - 0s 5ms/step - loss: 0.5693 - accuracy: 0.7453 - val_loss: 0.5821 - val_accuracy: 0.7116\n",
            "Epoch 104/250\n",
            "6/6 [==============================] - 0s 5ms/step - loss: 0.5642 - accuracy: 0.7516 - val_loss: 0.5792 - val_accuracy: 0.7256\n",
            "Epoch 105/250\n",
            "6/6 [==============================] - 0s 5ms/step - loss: 0.5730 - accuracy: 0.7547 - val_loss: 0.5772 - val_accuracy: 0.7256\n",
            "Epoch 106/250\n",
            "6/6 [==============================] - 0s 5ms/step - loss: 0.5679 - accuracy: 0.7516 - val_loss: 0.5814 - val_accuracy: 0.7070\n",
            "Epoch 107/250\n",
            "6/6 [==============================] - 0s 5ms/step - loss: 0.5690 - accuracy: 0.7236 - val_loss: 0.5897 - val_accuracy: 0.7070\n",
            "Epoch 108/250\n",
            "6/6 [==============================] - 0s 5ms/step - loss: 0.6024 - accuracy: 0.7236 - val_loss: 0.6446 - val_accuracy: 0.6744\n",
            "Epoch 109/250\n",
            "6/6 [==============================] - 0s 5ms/step - loss: 0.5905 - accuracy: 0.7360 - val_loss: 0.6473 - val_accuracy: 0.6884\n",
            "Epoch 110/250\n",
            "6/6 [==============================] - 0s 5ms/step - loss: 0.6150 - accuracy: 0.7050 - val_loss: 0.6298 - val_accuracy: 0.6791\n",
            "Epoch 111/250\n",
            "6/6 [==============================] - 0s 5ms/step - loss: 0.5812 - accuracy: 0.7391 - val_loss: 0.5793 - val_accuracy: 0.7256\n",
            "Epoch 112/250\n",
            "6/6 [==============================] - 0s 5ms/step - loss: 0.5723 - accuracy: 0.7453 - val_loss: 0.5818 - val_accuracy: 0.6977\n",
            "Epoch 113/250\n",
            "6/6 [==============================] - 0s 5ms/step - loss: 0.5586 - accuracy: 0.7547 - val_loss: 0.5719 - val_accuracy: 0.7256\n",
            "Epoch 114/250\n",
            "6/6 [==============================] - 0s 5ms/step - loss: 0.5601 - accuracy: 0.7516 - val_loss: 0.5783 - val_accuracy: 0.6930\n",
            "Epoch 115/250\n",
            "6/6 [==============================] - 0s 5ms/step - loss: 0.5623 - accuracy: 0.7547 - val_loss: 0.5710 - val_accuracy: 0.7163\n",
            "Epoch 116/250\n",
            "6/6 [==============================] - 0s 5ms/step - loss: 0.5582 - accuracy: 0.7422 - val_loss: 0.5679 - val_accuracy: 0.7302\n",
            "Epoch 117/250\n",
            "6/6 [==============================] - 0s 5ms/step - loss: 0.5657 - accuracy: 0.7422 - val_loss: 0.5831 - val_accuracy: 0.7070\n",
            "Epoch 118/250\n",
            "6/6 [==============================] - 0s 5ms/step - loss: 0.5652 - accuracy: 0.7267 - val_loss: 0.5693 - val_accuracy: 0.7395\n",
            "Epoch 119/250\n",
            "6/6 [==============================] - 0s 5ms/step - loss: 0.5670 - accuracy: 0.7329 - val_loss: 0.5683 - val_accuracy: 0.7209\n",
            "Epoch 120/250\n",
            "6/6 [==============================] - 0s 5ms/step - loss: 0.5598 - accuracy: 0.7516 - val_loss: 0.5686 - val_accuracy: 0.7163\n",
            "Epoch 121/250\n",
            "6/6 [==============================] - 0s 5ms/step - loss: 0.5556 - accuracy: 0.7453 - val_loss: 0.5791 - val_accuracy: 0.7116\n",
            "Epoch 122/250\n",
            "6/6 [==============================] - 0s 5ms/step - loss: 0.5683 - accuracy: 0.7702 - val_loss: 0.6200 - val_accuracy: 0.6837\n",
            "Epoch 123/250\n",
            "6/6 [==============================] - 0s 5ms/step - loss: 0.5862 - accuracy: 0.7050 - val_loss: 0.5617 - val_accuracy: 0.7209\n",
            "Epoch 124/250\n",
            "6/6 [==============================] - 0s 5ms/step - loss: 0.5570 - accuracy: 0.7391 - val_loss: 0.5623 - val_accuracy: 0.7349\n",
            "Epoch 125/250\n",
            "6/6 [==============================] - 0s 5ms/step - loss: 0.6023 - accuracy: 0.7453 - val_loss: 0.6057 - val_accuracy: 0.6837\n",
            "Epoch 126/250\n",
            "6/6 [==============================] - 0s 5ms/step - loss: 0.6011 - accuracy: 0.7112 - val_loss: 0.6093 - val_accuracy: 0.7163\n",
            "Epoch 127/250\n",
            "6/6 [==============================] - 0s 5ms/step - loss: 0.5980 - accuracy: 0.7205 - val_loss: 0.6177 - val_accuracy: 0.6837\n",
            "Epoch 128/250\n",
            "6/6 [==============================] - 0s 5ms/step - loss: 0.5803 - accuracy: 0.7205 - val_loss: 0.5890 - val_accuracy: 0.7209\n",
            "Epoch 129/250\n",
            "6/6 [==============================] - 0s 5ms/step - loss: 0.5803 - accuracy: 0.7578 - val_loss: 0.5776 - val_accuracy: 0.7023\n",
            "Epoch 130/250\n",
            "6/6 [==============================] - 0s 5ms/step - loss: 0.5480 - accuracy: 0.7609 - val_loss: 0.5754 - val_accuracy: 0.7163\n",
            "Epoch 131/250\n",
            "6/6 [==============================] - 0s 5ms/step - loss: 0.5727 - accuracy: 0.7671 - val_loss: 0.5915 - val_accuracy: 0.6930\n",
            "Epoch 132/250\n",
            "6/6 [==============================] - 0s 5ms/step - loss: 0.5738 - accuracy: 0.7360 - val_loss: 0.5846 - val_accuracy: 0.7116\n",
            "Epoch 133/250\n",
            "6/6 [==============================] - 0s 6ms/step - loss: 0.6001 - accuracy: 0.7360 - val_loss: 0.5766 - val_accuracy: 0.6930\n",
            "Epoch 134/250\n",
            "6/6 [==============================] - 0s 5ms/step - loss: 0.5645 - accuracy: 0.7360 - val_loss: 0.5690 - val_accuracy: 0.7302\n",
            "Epoch 135/250\n",
            "6/6 [==============================] - 0s 6ms/step - loss: 0.5912 - accuracy: 0.7422 - val_loss: 0.5692 - val_accuracy: 0.7163\n",
            "Epoch 136/250\n",
            "6/6 [==============================] - 0s 6ms/step - loss: 0.5525 - accuracy: 0.7578 - val_loss: 0.5610 - val_accuracy: 0.7302\n",
            "Epoch 137/250\n",
            "6/6 [==============================] - 0s 5ms/step - loss: 0.5557 - accuracy: 0.7516 - val_loss: 0.5668 - val_accuracy: 0.7256\n",
            "Epoch 138/250\n",
            "6/6 [==============================] - 0s 5ms/step - loss: 0.5565 - accuracy: 0.7640 - val_loss: 0.5637 - val_accuracy: 0.7256\n",
            "Epoch 139/250\n",
            "6/6 [==============================] - 0s 5ms/step - loss: 0.5570 - accuracy: 0.7453 - val_loss: 0.5617 - val_accuracy: 0.7349\n",
            "Epoch 140/250\n",
            "6/6 [==============================] - 0s 5ms/step - loss: 0.5579 - accuracy: 0.7640 - val_loss: 0.5817 - val_accuracy: 0.6977\n",
            "Epoch 141/250\n",
            "6/6 [==============================] - 0s 5ms/step - loss: 0.5604 - accuracy: 0.7298 - val_loss: 0.5781 - val_accuracy: 0.7163\n",
            "Epoch 142/250\n",
            "6/6 [==============================] - 0s 6ms/step - loss: 0.5639 - accuracy: 0.7609 - val_loss: 0.5826 - val_accuracy: 0.6977\n",
            "Epoch 143/250\n",
            "6/6 [==============================] - 0s 5ms/step - loss: 0.5577 - accuracy: 0.7329 - val_loss: 0.5610 - val_accuracy: 0.7302\n",
            "Epoch 144/250\n",
            "6/6 [==============================] - 0s 5ms/step - loss: 0.5446 - accuracy: 0.7547 - val_loss: 0.5738 - val_accuracy: 0.6977\n",
            "Epoch 145/250\n",
            "6/6 [==============================] - 0s 5ms/step - loss: 0.5500 - accuracy: 0.7702 - val_loss: 0.5547 - val_accuracy: 0.7302\n",
            "Epoch 146/250\n",
            "6/6 [==============================] - 0s 5ms/step - loss: 0.5826 - accuracy: 0.7236 - val_loss: 0.5787 - val_accuracy: 0.7256\n",
            "Epoch 147/250\n",
            "6/6 [==============================] - 0s 5ms/step - loss: 0.5946 - accuracy: 0.7112 - val_loss: 0.5997 - val_accuracy: 0.6837\n",
            "Epoch 148/250\n",
            "6/6 [==============================] - 0s 5ms/step - loss: 0.5657 - accuracy: 0.7391 - val_loss: 0.5538 - val_accuracy: 0.7302\n",
            "Epoch 149/250\n",
            "6/6 [==============================] - 0s 5ms/step - loss: 0.5396 - accuracy: 0.7578 - val_loss: 0.5679 - val_accuracy: 0.7023\n",
            "Epoch 150/250\n",
            "6/6 [==============================] - 0s 5ms/step - loss: 0.5461 - accuracy: 0.7671 - val_loss: 0.5597 - val_accuracy: 0.7349\n",
            "Epoch 151/250\n",
            "6/6 [==============================] - 0s 5ms/step - loss: 0.5560 - accuracy: 0.7609 - val_loss: 0.5556 - val_accuracy: 0.7395\n",
            "Epoch 152/250\n",
            "6/6 [==============================] - 0s 5ms/step - loss: 0.5580 - accuracy: 0.7671 - val_loss: 0.5525 - val_accuracy: 0.7256\n",
            "Epoch 153/250\n",
            "6/6 [==============================] - 0s 5ms/step - loss: 0.5410 - accuracy: 0.7702 - val_loss: 0.5548 - val_accuracy: 0.7442\n",
            "Epoch 154/250\n",
            "6/6 [==============================] - 0s 5ms/step - loss: 0.5491 - accuracy: 0.7453 - val_loss: 0.5546 - val_accuracy: 0.7395\n",
            "Epoch 155/250\n",
            "6/6 [==============================] - 0s 5ms/step - loss: 0.5713 - accuracy: 0.7081 - val_loss: 0.5828 - val_accuracy: 0.7209\n",
            "Epoch 156/250\n",
            "6/6 [==============================] - 0s 5ms/step - loss: 0.5728 - accuracy: 0.7484 - val_loss: 0.5643 - val_accuracy: 0.7116\n",
            "Epoch 157/250\n",
            "6/6 [==============================] - 0s 5ms/step - loss: 0.5464 - accuracy: 0.7547 - val_loss: 0.5509 - val_accuracy: 0.7302\n",
            "Epoch 158/250\n",
            "6/6 [==============================] - 0s 5ms/step - loss: 0.5402 - accuracy: 0.7671 - val_loss: 0.5582 - val_accuracy: 0.7349\n",
            "Epoch 159/250\n",
            "6/6 [==============================] - 0s 5ms/step - loss: 0.5420 - accuracy: 0.7640 - val_loss: 0.5492 - val_accuracy: 0.7395\n",
            "Epoch 160/250\n",
            "6/6 [==============================] - 0s 5ms/step - loss: 0.5453 - accuracy: 0.7516 - val_loss: 0.5577 - val_accuracy: 0.7256\n",
            "Epoch 161/250\n",
            "6/6 [==============================] - 0s 6ms/step - loss: 0.5386 - accuracy: 0.7640 - val_loss: 0.5624 - val_accuracy: 0.7209\n",
            "Epoch 162/250\n",
            "6/6 [==============================] - 0s 5ms/step - loss: 0.5607 - accuracy: 0.7547 - val_loss: 0.5611 - val_accuracy: 0.7163\n",
            "Epoch 163/250\n",
            "6/6 [==============================] - 0s 5ms/step - loss: 0.5482 - accuracy: 0.7609 - val_loss: 0.5494 - val_accuracy: 0.7442\n",
            "Epoch 164/250\n",
            "6/6 [==============================] - 0s 5ms/step - loss: 0.5485 - accuracy: 0.7547 - val_loss: 0.5513 - val_accuracy: 0.7302\n",
            "Epoch 165/250\n",
            "6/6 [==============================] - 0s 5ms/step - loss: 0.5502 - accuracy: 0.7578 - val_loss: 0.5663 - val_accuracy: 0.6930\n",
            "Epoch 166/250\n",
            "6/6 [==============================] - 0s 5ms/step - loss: 0.5461 - accuracy: 0.7422 - val_loss: 0.5556 - val_accuracy: 0.7256\n",
            "Epoch 167/250\n",
            "6/6 [==============================] - 0s 5ms/step - loss: 0.5621 - accuracy: 0.7360 - val_loss: 0.5738 - val_accuracy: 0.7302\n",
            "Epoch 168/250\n",
            "6/6 [==============================] - 0s 5ms/step - loss: 0.5741 - accuracy: 0.7422 - val_loss: 0.5615 - val_accuracy: 0.7116\n",
            "Epoch 169/250\n",
            "6/6 [==============================] - 0s 5ms/step - loss: 0.5301 - accuracy: 0.7826 - val_loss: 0.5604 - val_accuracy: 0.7302\n",
            "Epoch 170/250\n",
            "6/6 [==============================] - 0s 6ms/step - loss: 0.5449 - accuracy: 0.7609 - val_loss: 0.5876 - val_accuracy: 0.6791\n",
            "Epoch 171/250\n",
            "6/6 [==============================] - 0s 5ms/step - loss: 0.5697 - accuracy: 0.7516 - val_loss: 0.5456 - val_accuracy: 0.7395\n",
            "Epoch 172/250\n",
            "6/6 [==============================] - 0s 5ms/step - loss: 0.5472 - accuracy: 0.7391 - val_loss: 0.5502 - val_accuracy: 0.7302\n",
            "Epoch 173/250\n",
            "6/6 [==============================] - 0s 5ms/step - loss: 0.5450 - accuracy: 0.7671 - val_loss: 0.5860 - val_accuracy: 0.6837\n",
            "Epoch 174/250\n",
            "6/6 [==============================] - 0s 5ms/step - loss: 0.5682 - accuracy: 0.7298 - val_loss: 0.5501 - val_accuracy: 0.7302\n",
            "Epoch 175/250\n",
            "6/6 [==============================] - 0s 5ms/step - loss: 0.5322 - accuracy: 0.7671 - val_loss: 0.5759 - val_accuracy: 0.6884\n",
            "Epoch 176/250\n",
            "6/6 [==============================] - 0s 5ms/step - loss: 0.5438 - accuracy: 0.7453 - val_loss: 0.5898 - val_accuracy: 0.7256\n",
            "Epoch 177/250\n",
            "6/6 [==============================] - 0s 5ms/step - loss: 0.5588 - accuracy: 0.7547 - val_loss: 0.6230 - val_accuracy: 0.6744\n",
            "Epoch 178/250\n",
            "6/6 [==============================] - 0s 5ms/step - loss: 0.5698 - accuracy: 0.7267 - val_loss: 0.6124 - val_accuracy: 0.7116\n",
            "Epoch 179/250\n",
            "6/6 [==============================] - 0s 5ms/step - loss: 0.5530 - accuracy: 0.7702 - val_loss: 0.6886 - val_accuracy: 0.6651\n",
            "Epoch 180/250\n",
            "6/6 [==============================] - 0s 5ms/step - loss: 0.6168 - accuracy: 0.6957 - val_loss: 0.5891 - val_accuracy: 0.7395\n",
            "Epoch 181/250\n",
            "6/6 [==============================] - 0s 5ms/step - loss: 0.5556 - accuracy: 0.7609 - val_loss: 0.5720 - val_accuracy: 0.6977\n",
            "Epoch 182/250\n",
            "6/6 [==============================] - 0s 5ms/step - loss: 0.5474 - accuracy: 0.7453 - val_loss: 0.5480 - val_accuracy: 0.7349\n",
            "Epoch 183/250\n",
            "6/6 [==============================] - 0s 5ms/step - loss: 0.5362 - accuracy: 0.7764 - val_loss: 0.5553 - val_accuracy: 0.7302\n",
            "Epoch 184/250\n",
            "6/6 [==============================] - 0s 5ms/step - loss: 0.5382 - accuracy: 0.7795 - val_loss: 0.5517 - val_accuracy: 0.7256\n",
            "Epoch 185/250\n",
            "6/6 [==============================] - 0s 5ms/step - loss: 0.5370 - accuracy: 0.7640 - val_loss: 0.5533 - val_accuracy: 0.7256\n",
            "Epoch 186/250\n",
            "6/6 [==============================] - 0s 5ms/step - loss: 0.5319 - accuracy: 0.7702 - val_loss: 0.5501 - val_accuracy: 0.7209\n",
            "Epoch 187/250\n",
            "6/6 [==============================] - 0s 5ms/step - loss: 0.5460 - accuracy: 0.7547 - val_loss: 0.5429 - val_accuracy: 0.7535\n",
            "Epoch 188/250\n",
            "6/6 [==============================] - 0s 5ms/step - loss: 0.5541 - accuracy: 0.7484 - val_loss: 0.5641 - val_accuracy: 0.6884\n",
            "Epoch 189/250\n",
            "6/6 [==============================] - 0s 6ms/step - loss: 0.5412 - accuracy: 0.7640 - val_loss: 0.5430 - val_accuracy: 0.7535\n",
            "Epoch 190/250\n",
            "6/6 [==============================] - 0s 5ms/step - loss: 0.5276 - accuracy: 0.7795 - val_loss: 0.5686 - val_accuracy: 0.6884\n",
            "Epoch 191/250\n",
            "6/6 [==============================] - 0s 5ms/step - loss: 0.5361 - accuracy: 0.7671 - val_loss: 0.5436 - val_accuracy: 0.7442\n",
            "Epoch 192/250\n",
            "6/6 [==============================] - 0s 5ms/step - loss: 0.5384 - accuracy: 0.7640 - val_loss: 0.5518 - val_accuracy: 0.7256\n",
            "Epoch 193/250\n",
            "6/6 [==============================] - 0s 5ms/step - loss: 0.5270 - accuracy: 0.7671 - val_loss: 0.5477 - val_accuracy: 0.7209\n",
            "Epoch 194/250\n",
            "6/6 [==============================] - 0s 5ms/step - loss: 0.5301 - accuracy: 0.7609 - val_loss: 0.5829 - val_accuracy: 0.6884\n",
            "Epoch 195/250\n",
            "6/6 [==============================] - 0s 6ms/step - loss: 0.5499 - accuracy: 0.7547 - val_loss: 0.5867 - val_accuracy: 0.7209\n",
            "Epoch 196/250\n",
            "6/6 [==============================] - 0s 5ms/step - loss: 0.5568 - accuracy: 0.7453 - val_loss: 0.5625 - val_accuracy: 0.6977\n",
            "Epoch 197/250\n",
            "6/6 [==============================] - 0s 5ms/step - loss: 0.5389 - accuracy: 0.7671 - val_loss: 0.5431 - val_accuracy: 0.7349\n",
            "Epoch 198/250\n",
            "6/6 [==============================] - 0s 5ms/step - loss: 0.5312 - accuracy: 0.7702 - val_loss: 0.5424 - val_accuracy: 0.7302\n",
            "Epoch 199/250\n",
            "6/6 [==============================] - 0s 5ms/step - loss: 0.5313 - accuracy: 0.7547 - val_loss: 0.5579 - val_accuracy: 0.7116\n",
            "Epoch 200/250\n",
            "6/6 [==============================] - 0s 5ms/step - loss: 0.5411 - accuracy: 0.7702 - val_loss: 0.5378 - val_accuracy: 0.7395\n",
            "Epoch 201/250\n",
            "6/6 [==============================] - 0s 5ms/step - loss: 0.5326 - accuracy: 0.7578 - val_loss: 0.5391 - val_accuracy: 0.7535\n",
            "Epoch 202/250\n",
            "6/6 [==============================] - 0s 5ms/step - loss: 0.5303 - accuracy: 0.7733 - val_loss: 0.5376 - val_accuracy: 0.7535\n",
            "Epoch 203/250\n",
            "6/6 [==============================] - 0s 5ms/step - loss: 0.5306 - accuracy: 0.7609 - val_loss: 0.5735 - val_accuracy: 0.6837\n",
            "Epoch 204/250\n",
            "6/6 [==============================] - 0s 5ms/step - loss: 0.5624 - accuracy: 0.7484 - val_loss: 0.5746 - val_accuracy: 0.7256\n",
            "Epoch 205/250\n",
            "6/6 [==============================] - 0s 6ms/step - loss: 0.5602 - accuracy: 0.7516 - val_loss: 0.5386 - val_accuracy: 0.7349\n",
            "Epoch 206/250\n",
            "6/6 [==============================] - 0s 6ms/step - loss: 0.5719 - accuracy: 0.7484 - val_loss: 0.5633 - val_accuracy: 0.6930\n",
            "Epoch 207/250\n",
            "6/6 [==============================] - 0s 7ms/step - loss: 0.5513 - accuracy: 0.7671 - val_loss: 0.5442 - val_accuracy: 0.7395\n",
            "Epoch 208/250\n",
            "6/6 [==============================] - 0s 6ms/step - loss: 0.5307 - accuracy: 0.7640 - val_loss: 0.5393 - val_accuracy: 0.7488\n",
            "Epoch 209/250\n",
            "6/6 [==============================] - 0s 5ms/step - loss: 0.5257 - accuracy: 0.7702 - val_loss: 0.5558 - val_accuracy: 0.7070\n",
            "Epoch 210/250\n",
            "6/6 [==============================] - 0s 5ms/step - loss: 0.5294 - accuracy: 0.7578 - val_loss: 0.5546 - val_accuracy: 0.7442\n",
            "Epoch 211/250\n",
            "6/6 [==============================] - 0s 5ms/step - loss: 0.5386 - accuracy: 0.7547 - val_loss: 0.5370 - val_accuracy: 0.7535\n",
            "Epoch 212/250\n",
            "6/6 [==============================] - 0s 5ms/step - loss: 0.5381 - accuracy: 0.7547 - val_loss: 0.5924 - val_accuracy: 0.6930\n",
            "Epoch 213/250\n",
            "6/6 [==============================] - 0s 5ms/step - loss: 0.5426 - accuracy: 0.7360 - val_loss: 0.5358 - val_accuracy: 0.7442\n",
            "Epoch 214/250\n",
            "6/6 [==============================] - 0s 5ms/step - loss: 0.5232 - accuracy: 0.7764 - val_loss: 0.5473 - val_accuracy: 0.7163\n",
            "Epoch 215/250\n",
            "6/6 [==============================] - 0s 6ms/step - loss: 0.5328 - accuracy: 0.7516 - val_loss: 0.5429 - val_accuracy: 0.7395\n",
            "Epoch 216/250\n",
            "6/6 [==============================] - 0s 5ms/step - loss: 0.5335 - accuracy: 0.7640 - val_loss: 0.5626 - val_accuracy: 0.7349\n",
            "Epoch 217/250\n",
            "6/6 [==============================] - 0s 5ms/step - loss: 0.5660 - accuracy: 0.7236 - val_loss: 0.5417 - val_accuracy: 0.7302\n",
            "Epoch 218/250\n",
            "6/6 [==============================] - 0s 6ms/step - loss: 0.5557 - accuracy: 0.7453 - val_loss: 0.5579 - val_accuracy: 0.6977\n",
            "Epoch 219/250\n",
            "6/6 [==============================] - 0s 5ms/step - loss: 0.5238 - accuracy: 0.7826 - val_loss: 0.5565 - val_accuracy: 0.7442\n",
            "Epoch 220/250\n",
            "6/6 [==============================] - 0s 5ms/step - loss: 0.5491 - accuracy: 0.7422 - val_loss: 0.5502 - val_accuracy: 0.7395\n",
            "Epoch 221/250\n",
            "6/6 [==============================] - 0s 5ms/step - loss: 0.5669 - accuracy: 0.7267 - val_loss: 0.5871 - val_accuracy: 0.6837\n",
            "Epoch 222/250\n",
            "6/6 [==============================] - 0s 5ms/step - loss: 0.5387 - accuracy: 0.7453 - val_loss: 0.5363 - val_accuracy: 0.7581\n",
            "Epoch 223/250\n",
            "6/6 [==============================] - 0s 5ms/step - loss: 0.5206 - accuracy: 0.7733 - val_loss: 0.5378 - val_accuracy: 0.7442\n",
            "Epoch 224/250\n",
            "6/6 [==============================] - 0s 5ms/step - loss: 0.5290 - accuracy: 0.7609 - val_loss: 0.5401 - val_accuracy: 0.7349\n",
            "Epoch 225/250\n",
            "6/6 [==============================] - 0s 6ms/step - loss: 0.5347 - accuracy: 0.7609 - val_loss: 0.6248 - val_accuracy: 0.6884\n",
            "Epoch 226/250\n",
            "6/6 [==============================] - 0s 5ms/step - loss: 0.5503 - accuracy: 0.7391 - val_loss: 0.5579 - val_accuracy: 0.7488\n",
            "Epoch 227/250\n",
            "6/6 [==============================] - 0s 5ms/step - loss: 0.5370 - accuracy: 0.7764 - val_loss: 0.5341 - val_accuracy: 0.7581\n",
            "Epoch 228/250\n",
            "6/6 [==============================] - 0s 5ms/step - loss: 0.5703 - accuracy: 0.7360 - val_loss: 0.6254 - val_accuracy: 0.6884\n",
            "Epoch 229/250\n",
            "6/6 [==============================] - 0s 5ms/step - loss: 0.5866 - accuracy: 0.7143 - val_loss: 0.5419 - val_accuracy: 0.7349\n",
            "Epoch 230/250\n",
            "6/6 [==============================] - 0s 5ms/step - loss: 0.5711 - accuracy: 0.7298 - val_loss: 0.5743 - val_accuracy: 0.7488\n",
            "Epoch 231/250\n",
            "6/6 [==============================] - 0s 5ms/step - loss: 0.5553 - accuracy: 0.7609 - val_loss: 0.5950 - val_accuracy: 0.6884\n",
            "Epoch 232/250\n",
            "6/6 [==============================] - 0s 5ms/step - loss: 0.5550 - accuracy: 0.7733 - val_loss: 0.5419 - val_accuracy: 0.7349\n",
            "Epoch 233/250\n",
            "6/6 [==============================] - 0s 5ms/step - loss: 0.5443 - accuracy: 0.7422 - val_loss: 0.5523 - val_accuracy: 0.7535\n",
            "Epoch 234/250\n",
            "6/6 [==============================] - 0s 5ms/step - loss: 0.5636 - accuracy: 0.7360 - val_loss: 0.5809 - val_accuracy: 0.6837\n",
            "Epoch 235/250\n",
            "6/6 [==============================] - 0s 5ms/step - loss: 0.5464 - accuracy: 0.7453 - val_loss: 0.5760 - val_accuracy: 0.7256\n",
            "Epoch 236/250\n",
            "6/6 [==============================] - 0s 5ms/step - loss: 0.5583 - accuracy: 0.7453 - val_loss: 0.5585 - val_accuracy: 0.7070\n",
            "Epoch 237/250\n",
            "6/6 [==============================] - 0s 5ms/step - loss: 0.5462 - accuracy: 0.7702 - val_loss: 0.5438 - val_accuracy: 0.7349\n",
            "Epoch 238/250\n",
            "6/6 [==============================] - 0s 5ms/step - loss: 0.5474 - accuracy: 0.7453 - val_loss: 0.5575 - val_accuracy: 0.7395\n",
            "Epoch 239/250\n",
            "6/6 [==============================] - 0s 5ms/step - loss: 0.5397 - accuracy: 0.7795 - val_loss: 0.6311 - val_accuracy: 0.6791\n",
            "Epoch 240/250\n",
            "6/6 [==============================] - 0s 5ms/step - loss: 0.5798 - accuracy: 0.7516 - val_loss: 0.5503 - val_accuracy: 0.7442\n",
            "Epoch 241/250\n",
            "6/6 [==============================] - 0s 5ms/step - loss: 0.5483 - accuracy: 0.7609 - val_loss: 0.5398 - val_accuracy: 0.7395\n",
            "Epoch 242/250\n",
            "6/6 [==============================] - 0s 5ms/step - loss: 0.5281 - accuracy: 0.7671 - val_loss: 0.5401 - val_accuracy: 0.7395\n",
            "Epoch 243/250\n",
            "6/6 [==============================] - 0s 6ms/step - loss: 0.5238 - accuracy: 0.7702 - val_loss: 0.5367 - val_accuracy: 0.7488\n",
            "Epoch 244/250\n",
            "6/6 [==============================] - 0s 5ms/step - loss: 0.5225 - accuracy: 0.7764 - val_loss: 0.5437 - val_accuracy: 0.7209\n",
            "Epoch 245/250\n",
            "6/6 [==============================] - 0s 5ms/step - loss: 0.5243 - accuracy: 0.7702 - val_loss: 0.5359 - val_accuracy: 0.7302\n",
            "Epoch 246/250\n",
            "6/6 [==============================] - 0s 5ms/step - loss: 0.5211 - accuracy: 0.7640 - val_loss: 0.5370 - val_accuracy: 0.7349\n",
            "Epoch 247/250\n",
            "6/6 [==============================] - 0s 5ms/step - loss: 0.5230 - accuracy: 0.7484 - val_loss: 0.5480 - val_accuracy: 0.7349\n",
            "Epoch 248/250\n",
            "6/6 [==============================] - 0s 5ms/step - loss: 0.5258 - accuracy: 0.7764 - val_loss: 0.6032 - val_accuracy: 0.7116\n",
            "Epoch 249/250\n",
            "6/6 [==============================] - 0s 5ms/step - loss: 0.5738 - accuracy: 0.7236 - val_loss: 0.5588 - val_accuracy: 0.7070\n",
            "Epoch 250/250\n",
            "6/6 [==============================] - 0s 5ms/step - loss: 0.5235 - accuracy: 0.7671 - val_loss: 0.5340 - val_accuracy: 0.7349\n"
          ],
          "name": "stdout"
        },
        {
          "output_type": "execute_result",
          "data": {
            "text/plain": [
              "<tensorflow.python.keras.callbacks.History at 0x7fb2404c3358>"
            ]
          },
          "metadata": {
            "tags": []
          },
          "execution_count": 21
        }
      ]
    },
    {
      "cell_type": "code",
      "metadata": {
        "id": "JILWTRV9coQS",
        "outputId": "8b0c3808-cc1b-42fd-f12e-9ba098ef621e",
        "colab": {
          "base_uri": "https://localhost:8080/",
          "height": 71
        }
      },
      "source": [
        "model.evaluate(X_test,y_test)"
      ],
      "execution_count": null,
      "outputs": [
        {
          "output_type": "stream",
          "text": [
            "8/8 [==============================] - 0s 2ms/step - loss: 0.5261 - accuracy: 0.7749\n"
          ],
          "name": "stdout"
        },
        {
          "output_type": "execute_result",
          "data": {
            "text/plain": [
              "[0.5261304974555969, 0.7748917937278748]"
            ]
          },
          "metadata": {
            "tags": []
          },
          "execution_count": 22
        }
      ]
    },
    {
      "cell_type": "code",
      "metadata": {
        "id": "GRE4BitHMPY_"
      },
      "source": [
        "\n",
        "y_pred=model.predict(X_test) "
      ],
      "execution_count": null,
      "outputs": []
    },
    {
      "cell_type": "code",
      "metadata": {
        "id": "rmNyUEmJnGwi",
        "outputId": "04b91d2b-42a2-40a5-90ff-12fd915595f4",
        "colab": {
          "base_uri": "https://localhost:8080/",
          "height": 34
        }
      },
      "source": [
        "model.predict([[8,183,64,0,0,23.3,0.672,32]])"
      ],
      "execution_count": null,
      "outputs": [
        {
          "output_type": "execute_result",
          "data": {
            "text/plain": [
              "array([[0.5240105]], dtype=float32)"
            ]
          },
          "metadata": {
            "tags": []
          },
          "execution_count": 29
        }
      ]
    },
    {
      "cell_type": "code",
      "metadata": {
        "id": "q62I2P1YMci1"
      },
      "source": [
        "'''y_prediction=[]\n",
        "for y_predi in y_pred:\n",
        "  if y_predi>0.5:\n",
        "    y_predi=1\n",
        "    y_prediction.append(y_predi)\n",
        "  else:\n",
        "    y_predi=0\n",
        "    y_prediction.append(y_predi)'''\n"
      ],
      "execution_count": null,
      "outputs": []
    },
    {
      "cell_type": "code",
      "metadata": {
        "id": "rAvySWTXa2Af"
      },
      "source": [
        "model.save('filenames.h5')"
      ],
      "execution_count": null,
      "outputs": []
    }
  ]
}