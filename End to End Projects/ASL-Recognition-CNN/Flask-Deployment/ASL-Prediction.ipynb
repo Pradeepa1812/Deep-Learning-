{
 "cells": [
  {
   "cell_type": "code",
   "execution_count": 65,
   "metadata": {},
   "outputs": [],
   "source": [
    "import cv2\n",
    "import numpy as np\n",
    "from keras.preprocessing import image\n",
    "from keras.preprocessing.image import load_img\n",
    "from tensorflow.keras.preprocessing.image import img_to_array\n",
    "from tensorflow.keras.models import load_model"
   ]
  },
  {
   "cell_type": "code",
   "execution_count": 66,
   "metadata": {},
   "outputs": [],
   "source": [
    "model_load = load_model('model_i1.h5')\n",
    "\n",
    "model_load.compile(optimizer = \"RMSprop\", loss = \"categorical_crossentropy\", metrics = [\"accuracy\"])"
   ]
  },
  {
   "cell_type": "code",
   "execution_count": 67,
   "metadata": {},
   "outputs": [
    {
     "name": "stdout",
     "output_type": "stream",
     "text": [
      "(3, 50, 50)\n"
     ]
    }
   ],
   "source": [
    "img_array = cv2.imread('Data\\A\\A4.jpg', cv2.IMREAD_COLOR)\n",
    "new_array = cv2.resize(img_array,(50,50))\n",
    "\n",
    "X = []\n",
    "\n",
    "X.append(new_array)\n",
    "\n",
    "X = np.array(X).reshape(-1,50,50)\n",
    "print(X.shape)\n",
    "X = X/255.0  \n",
    "X = X.reshape(-1,50,50,3)"
   ]
  },
  {
   "cell_type": "code",
   "execution_count": 68,
   "metadata": {},
   "outputs": [],
   "source": [
    "prediction = model_load.predict_classes(X)[0]"
   ]
  },
  {
   "cell_type": "code",
   "execution_count": 69,
   "metadata": {},
   "outputs": [
    {
     "name": "stdout",
     "output_type": "stream",
     "text": [
      "A\n"
     ]
    }
   ],
   "source": [
    "if prediction == 0:\n",
    "    print(\"A\")\n",
    "elif prediction == 1:\n",
    "    print(\"B\")\n",
    "elif prediction == 2:\n",
    "    print(\"C\")\n",
    "else:\n",
    "    print(\"Wrong prediction\")"
   ]
  }
 ],
 "metadata": {
  "kernelspec": {
   "display_name": "Python 3",
   "language": "python",
   "name": "python3"
  },
  "language_info": {
   "codemirror_mode": {
    "name": "ipython",
    "version": 3
   },
   "file_extension": ".py",
   "mimetype": "text/x-python",
   "name": "python",
   "nbconvert_exporter": "python",
   "pygments_lexer": "ipython3",
   "version": "3.8.5"
  }
 },
 "nbformat": 4,
 "nbformat_minor": 2
}
