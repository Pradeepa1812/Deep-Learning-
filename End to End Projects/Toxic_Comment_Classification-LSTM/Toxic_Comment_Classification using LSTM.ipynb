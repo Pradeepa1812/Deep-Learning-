{
  "nbformat": 4,
  "nbformat_minor": 0,
  "metadata": {
    "accelerator": "GPU",
    "colab": {
      "name": "Toxic Comment Classification",
      "provenance": []
    },
    "kernelspec": {
      "display_name": "Python 3",
      "name": "python3"
    }
  },
  "cells": [
    {
      "cell_type": "code",
      "metadata": {
        "colab": {
          "base_uri": "https://localhost:8080/"
        },
        "id": "T2jYrnDJ_x4j",
        "outputId": "a9d286d9-6581-4372-d830-0633e1392a99"
      },
      "source": [
        "from google.colab import drive\r\n",
        "drive.mount('/content/drive')"
      ],
      "execution_count": 1,
      "outputs": [
        {
          "output_type": "stream",
          "text": [
            "Drive already mounted at /content/drive; to attempt to forcibly remount, call drive.mount(\"/content/drive\", force_remount=True).\n"
          ],
          "name": "stdout"
        }
      ]
    },
    {
      "cell_type": "markdown",
      "metadata": {
        "id": "_qB8hX7tU-wq"
      },
      "source": [
        "Importing the required libraries"
      ]
    },
    {
      "cell_type": "code",
      "metadata": {
        "id": "intUCoLm-DA7"
      },
      "source": [
        "import pandas as pd\r\n",
        "import numpy as np\r\n",
        "import matplotlib.pyplot as plt\r\n",
        "%matplotlib inline"
      ],
      "execution_count": null,
      "outputs": []
    },
    {
      "cell_type": "code",
      "metadata": {
        "id": "SLmSSGJcR3zA"
      },
      "source": [
        "train_data=pd.read_csv('/content/drive/MyDrive/links/jigsaw-toxic-comment-classification-challenge.zip (Unzipped Files)/train.csv.zip (Unzipped Files)/train.csv')"
      ],
      "execution_count": null,
      "outputs": []
    },
    {
      "cell_type": "code",
      "metadata": {
        "colab": {
          "base_uri": "https://localhost:8080/",
          "height": 255
        },
        "id": "Up4W9nP9SIjr",
        "outputId": "81a3dbcb-47e9-4f6f-c30f-d8b53371accc"
      },
      "source": [
        "train_data.head()"
      ],
      "execution_count": null,
      "outputs": [
        {
          "output_type": "execute_result",
          "data": {
            "text/html": [
              "<div>\n",
              "<style scoped>\n",
              "    .dataframe tbody tr th:only-of-type {\n",
              "        vertical-align: middle;\n",
              "    }\n",
              "\n",
              "    .dataframe tbody tr th {\n",
              "        vertical-align: top;\n",
              "    }\n",
              "\n",
              "    .dataframe thead th {\n",
              "        text-align: right;\n",
              "    }\n",
              "</style>\n",
              "<table border=\"1\" class=\"dataframe\">\n",
              "  <thead>\n",
              "    <tr style=\"text-align: right;\">\n",
              "      <th></th>\n",
              "      <th>id</th>\n",
              "      <th>comment_text</th>\n",
              "      <th>toxic</th>\n",
              "      <th>severe_toxic</th>\n",
              "      <th>obscene</th>\n",
              "      <th>threat</th>\n",
              "      <th>insult</th>\n",
              "      <th>identity_hate</th>\n",
              "    </tr>\n",
              "  </thead>\n",
              "  <tbody>\n",
              "    <tr>\n",
              "      <th>0</th>\n",
              "      <td>0000997932d777bf</td>\n",
              "      <td>Explanation\\nWhy the edits made under my usern...</td>\n",
              "      <td>0</td>\n",
              "      <td>0</td>\n",
              "      <td>0</td>\n",
              "      <td>0</td>\n",
              "      <td>0</td>\n",
              "      <td>0</td>\n",
              "    </tr>\n",
              "    <tr>\n",
              "      <th>1</th>\n",
              "      <td>000103f0d9cfb60f</td>\n",
              "      <td>D'aww! He matches this background colour I'm s...</td>\n",
              "      <td>0</td>\n",
              "      <td>0</td>\n",
              "      <td>0</td>\n",
              "      <td>0</td>\n",
              "      <td>0</td>\n",
              "      <td>0</td>\n",
              "    </tr>\n",
              "    <tr>\n",
              "      <th>2</th>\n",
              "      <td>000113f07ec002fd</td>\n",
              "      <td>Hey man, I'm really not trying to edit war. It...</td>\n",
              "      <td>0</td>\n",
              "      <td>0</td>\n",
              "      <td>0</td>\n",
              "      <td>0</td>\n",
              "      <td>0</td>\n",
              "      <td>0</td>\n",
              "    </tr>\n",
              "    <tr>\n",
              "      <th>3</th>\n",
              "      <td>0001b41b1c6bb37e</td>\n",
              "      <td>\"\\nMore\\nI can't make any real suggestions on ...</td>\n",
              "      <td>0</td>\n",
              "      <td>0</td>\n",
              "      <td>0</td>\n",
              "      <td>0</td>\n",
              "      <td>0</td>\n",
              "      <td>0</td>\n",
              "    </tr>\n",
              "    <tr>\n",
              "      <th>4</th>\n",
              "      <td>0001d958c54c6e35</td>\n",
              "      <td>You, sir, are my hero. Any chance you remember...</td>\n",
              "      <td>0</td>\n",
              "      <td>0</td>\n",
              "      <td>0</td>\n",
              "      <td>0</td>\n",
              "      <td>0</td>\n",
              "      <td>0</td>\n",
              "    </tr>\n",
              "  </tbody>\n",
              "</table>\n",
              "</div>"
            ],
            "text/plain": [
              "                 id  ... identity_hate\n",
              "0  0000997932d777bf  ...             0\n",
              "1  000103f0d9cfb60f  ...             0\n",
              "2  000113f07ec002fd  ...             0\n",
              "3  0001b41b1c6bb37e  ...             0\n",
              "4  0001d958c54c6e35  ...             0\n",
              "\n",
              "[5 rows x 8 columns]"
            ]
          },
          "metadata": {
            "tags": []
          },
          "execution_count": 4
        }
      ]
    },
    {
      "cell_type": "code",
      "metadata": {
        "id": "orpQ5aafSNoJ"
      },
      "source": [
        "test_data=pd.read_csv('/content/drive/MyDrive/links/jigsaw-toxic-comment-classification-challenge.zip (Unzipped Files)/test.csv.zip (Unzipped Files)/test.csv')"
      ],
      "execution_count": null,
      "outputs": []
    },
    {
      "cell_type": "code",
      "metadata": {
        "colab": {
          "base_uri": "https://localhost:8080/",
          "height": 204
        },
        "id": "z-rv4ur9VHZH",
        "outputId": "24f64ebf-ecac-4e6e-9bfe-d272c1bde745"
      },
      "source": [
        "test_data.head()"
      ],
      "execution_count": null,
      "outputs": [
        {
          "output_type": "execute_result",
          "data": {
            "text/html": [
              "<div>\n",
              "<style scoped>\n",
              "    .dataframe tbody tr th:only-of-type {\n",
              "        vertical-align: middle;\n",
              "    }\n",
              "\n",
              "    .dataframe tbody tr th {\n",
              "        vertical-align: top;\n",
              "    }\n",
              "\n",
              "    .dataframe thead th {\n",
              "        text-align: right;\n",
              "    }\n",
              "</style>\n",
              "<table border=\"1\" class=\"dataframe\">\n",
              "  <thead>\n",
              "    <tr style=\"text-align: right;\">\n",
              "      <th></th>\n",
              "      <th>id</th>\n",
              "      <th>comment_text</th>\n",
              "    </tr>\n",
              "  </thead>\n",
              "  <tbody>\n",
              "    <tr>\n",
              "      <th>0</th>\n",
              "      <td>00001cee341fdb12</td>\n",
              "      <td>Yo bitch Ja Rule is more succesful then you'll...</td>\n",
              "    </tr>\n",
              "    <tr>\n",
              "      <th>1</th>\n",
              "      <td>0000247867823ef7</td>\n",
              "      <td>== From RfC == \\n\\n The title is fine as it is...</td>\n",
              "    </tr>\n",
              "    <tr>\n",
              "      <th>2</th>\n",
              "      <td>00013b17ad220c46</td>\n",
              "      <td>\" \\n\\n == Sources == \\n\\n * Zawe Ashton on Lap...</td>\n",
              "    </tr>\n",
              "    <tr>\n",
              "      <th>3</th>\n",
              "      <td>00017563c3f7919a</td>\n",
              "      <td>:If you have a look back at the source, the in...</td>\n",
              "    </tr>\n",
              "    <tr>\n",
              "      <th>4</th>\n",
              "      <td>00017695ad8997eb</td>\n",
              "      <td>I don't anonymously edit articles at all.</td>\n",
              "    </tr>\n",
              "  </tbody>\n",
              "</table>\n",
              "</div>"
            ],
            "text/plain": [
              "                 id                                       comment_text\n",
              "0  00001cee341fdb12  Yo bitch Ja Rule is more succesful then you'll...\n",
              "1  0000247867823ef7  == From RfC == \\n\\n The title is fine as it is...\n",
              "2  00013b17ad220c46  \" \\n\\n == Sources == \\n\\n * Zawe Ashton on Lap...\n",
              "3  00017563c3f7919a  :If you have a look back at the source, the in...\n",
              "4  00017695ad8997eb          I don't anonymously edit articles at all."
            ]
          },
          "metadata": {
            "tags": []
          },
          "execution_count": 6
        }
      ]
    },
    {
      "cell_type": "markdown",
      "metadata": {
        "id": "C1Gbo3oXVC2E"
      },
      "source": [
        "EDA"
      ]
    },
    {
      "cell_type": "code",
      "metadata": {
        "colab": {
          "base_uri": "https://localhost:8080/"
        },
        "id": "mGBY_GDYVKtp",
        "outputId": "5f058987-35e8-4429-e9a1-b25c7ec70107"
      },
      "source": [
        "del train_data['id']\r\n",
        "del test_data['id']\r\n",
        "print(\"Training data :\",train_data.shape)\r\n",
        "print(\"Test Data:\",test_data.shape)\r\n",
        "print(train_data.info())"
      ],
      "execution_count": null,
      "outputs": [
        {
          "output_type": "stream",
          "text": [
            "Training data : (159571, 7)\n",
            "Test Data: (153164, 1)\n",
            "<class 'pandas.core.frame.DataFrame'>\n",
            "RangeIndex: 159571 entries, 0 to 159570\n",
            "Data columns (total 7 columns):\n",
            " #   Column         Non-Null Count   Dtype \n",
            "---  ------         --------------   ----- \n",
            " 0   comment_text   159571 non-null  object\n",
            " 1   toxic          159571 non-null  int64 \n",
            " 2   severe_toxic   159571 non-null  int64 \n",
            " 3   obscene        159571 non-null  int64 \n",
            " 4   threat         159571 non-null  int64 \n",
            " 5   insult         159571 non-null  int64 \n",
            " 6   identity_hate  159571 non-null  int64 \n",
            "dtypes: int64(6), object(1)\n",
            "memory usage: 8.5+ MB\n",
            "None\n"
          ],
          "name": "stdout"
        }
      ]
    },
    {
      "cell_type": "markdown",
      "metadata": {
        "id": "23wNjHf3VFuM"
      },
      "source": [
        "Visualization"
      ]
    },
    {
      "cell_type": "code",
      "metadata": {
        "id": "_71LY1VOVVx2"
      },
      "source": [
        "output_features=[\"toxic\",\"severe_toxic\",\"obscene\",\"threat\",\"insult\",\"identity_hate\"]#values-->converting array\r\n"
      ],
      "execution_count": null,
      "outputs": []
    },
    {
      "cell_type": "code",
      "metadata": {
        "colab": {
          "base_uri": "https://localhost:8080/",
          "height": 405
        },
        "id": "t8XlrwcpVcNV",
        "outputId": "fccfb355-fe9e-4473-8e03-5badf28e838a"
      },
      "source": [
        "import seaborn as sns\r\n",
        "value_counts=train_data[output_features].sum() #sum--->It contains index and values Eg:toxic 15294\r\n",
        "plt.figure(figsize=(10,5))\r\n",
        "ax=sns.barplot(value_counts.index,value_counts.values)\r\n",
        "\r\n",
        "plt.title(\"No of comments per class\")\r\n",
        "plt.xlabel('Comments Type')\r\n",
        "plt.ylabel('No. of Occurrences')\r\n",
        "\r\n",
        "\r\n",
        "rect=ax.patches\r\n",
        "label=value_counts.values #array([15294,  1595,  8449,   478,   478,  7877,  1405])\r\n",
        "for rects,labels in zip(rect,label):\r\n",
        "    height=rects.get_height()\r\n",
        "    ax.text(rects.get_x()+rects.get_width()/2,height+5,labels,ha='center',va='bottom')\r\n",
        "\r\n",
        "plt.show()"
      ],
      "execution_count": null,
      "outputs": [
        {
          "output_type": "stream",
          "text": [
            "/usr/local/lib/python3.6/dist-packages/seaborn/_decorators.py:43: FutureWarning: Pass the following variables as keyword args: x, y. From version 0.12, the only valid positional argument will be `data`, and passing other arguments without an explicit keyword will result in an error or misinterpretation.\n",
            "  FutureWarning\n"
          ],
          "name": "stderr"
        },
        {
          "output_type": "display_data",
          "data": {
            "image/png": "[encoded data removed]",
            "text/plain": [
              "<Figure size 720x360 with 1 Axes>"
            ]
          },
          "metadata": {
            "tags": [],
            "needs_background": "light"
          }
        }
      ]
    },
    {
      "cell_type": "code",
      "metadata": {
        "colab": {
          "base_uri": "https://localhost:8080/",
          "height": 1000
        },
        "id": "51p2pK0IVehO",
        "outputId": "d2ac594c-5061-429f-fdc0-0006318bdb8e"
      },
      "source": [
        "for i,col in enumerate([\"toxic\", \"severe_toxic\", \"obscene\", \"threat\", \"insult\", \"identity_hate\"]):\r\n",
        "    plt.title(col)\r\n",
        "    plt.bar([col,\"Not \"+col], np.sort(train_data[col].value_counts()))\r\n",
        "    plt.show()"
      ],
      "execution_count": null,
      "outputs": [
        {
          "output_type": "display_data",
          "data": {
            "image/png": "[encoded data removed]",
            "text/plain": [
              "<Figure size 432x288 with 1 Axes>"
            ]
          },
          "metadata": {
            "tags": [],
            "needs_background": "light"
          }
        },
        {
          "output_type": "display_data",
          "data": {
            "image/png": "[encoded data removed]",
            "text/plain": [
              "<Figure size 432x288 with 1 Axes>"
            ]
          },
          "metadata": {
            "tags": [],
            "needs_background": "light"
          }
        },
        {
          "output_type": "display_data",
          "data": {
            "image/png": "[encoded data removed]",
            "text/plain": [
              "<Figure size 432x288 with 1 Axes>"
            ]
          },
          "metadata": {
            "tags": [],
            "needs_background": "light"
          }
        },
        {
          "output_type": "display_data",
          "data": {
            "image/png": "[encoded data removed]",
            "text/plain": [
              "<Figure size 432x288 with 1 Axes>"
            ]
          },
          "metadata": {
            "tags": [],
            "needs_background": "light"
          }
        },
        {
          "output_type": "display_data",
          "data": {
            "image/png": "[encoded data removed]",
            "text/plain": [
              "<Figure size 432x288 with 1 Axes>"
            ]
          },
          "metadata": {
            "tags": [],
            "needs_background": "light"
          }
        },
        {
          "output_type": "display_data",
          "data": {
            "image/png": "[encoded data removed]",
            "text/plain": [
              "<Figure size 432x288 with 1 Axes>"
            ]
          },
          "metadata": {
            "tags": [],
            "needs_background": "light"
          }
        }
      ]
    },
    {
      "cell_type": "code",
      "metadata": {
        "colab": {
          "base_uri": "https://localhost:8080/"
        },
        "id": "_R8-o-W4Vo8f",
        "outputId": "55248667-62f3-4647-8cac-ddcbd9ac72c1"
      },
      "source": [
        "train_data=train_data.reindex(np.random.permutation(train_data.index))\r\n",
        "print(train_data.head(2))"
      ],
      "execution_count": null,
      "outputs": [
        {
          "output_type": "stream",
          "text": [
            "                                            comment_text  ...  identity_hate\n",
            "21811  Memento Mori \\n\\nWhat's your source that tells...  ...              0\n",
            "28413  \"\\n\\nThis needed to be clarified since there h...  ...              0\n",
            "\n",
            "[2 rows x 7 columns]\n"
          ],
          "name": "stdout"
        }
      ]
    },
    {
      "cell_type": "code",
      "metadata": {
        "colab": {
          "base_uri": "https://localhost:8080/"
        },
        "id": "dybPEW-QV68B",
        "outputId": "1afe11e8-e2e8-495e-b876-1ecfc45d29f0"
      },
      "source": [
        "train_comment=train_data['comment_text']\r\n",
        "train_comment=train_comment.to_numpy()\r\n",
        "print(train_comment.shape)"
      ],
      "execution_count": null,
      "outputs": [
        {
          "output_type": "stream",
          "text": [
            "(159571,)\n"
          ],
          "name": "stdout"
        }
      ]
    },
    {
      "cell_type": "code",
      "metadata": {
        "colab": {
          "base_uri": "https://localhost:8080/"
        },
        "id": "37zq4iQOV_Jj",
        "outputId": "90e6244d-2faa-4462-ab2f-f3e0fecfa44c"
      },
      "source": [
        "output_labels=train_data[['toxic','severe_toxic','obscene','threat','insult','identity_hate']]\r\n",
        "output_labels=output_labels.to_numpy()\r\n",
        "print(output_labels.shape)"
      ],
      "execution_count": null,
      "outputs": [
        {
          "output_type": "stream",
          "text": [
            "(159571, 6)\n"
          ],
          "name": "stdout"
        }
      ]
    },
    {
      "cell_type": "markdown",
      "metadata": {
        "id": "TjfIUXhDVJgm"
      },
      "source": [
        "Text preprocessing"
      ]
    },
    {
      "cell_type": "code",
      "metadata": {
        "id": "NrLtnTbzWCf8"
      },
      "source": [
        "import keras\r\n",
        "import nltk\r\n",
        "import string\r\n",
        "import re\r\n",
        "from nltk.tokenize import word_tokenize\r\n",
        "from nltk.corpus import stopwords\r\n",
        "from nltk.stem import PorterStemmer,WordNetLemmatizer \r\n",
        "ps=PorterStemmer()\r\n",
        "lemmatizer=WordNetLemmatizer()"
      ],
      "execution_count": null,
      "outputs": []
    },
    {
      "cell_type": "code",
      "metadata": {
        "colab": {
          "base_uri": "https://localhost:8080/"
        },
        "id": "T08krkiqWWHS",
        "outputId": "fc61aa2b-4646-42a4-e452-befed72de7f0"
      },
      "source": [
        "train_comment.shape"
      ],
      "execution_count": null,
      "outputs": [
        {
          "output_type": "execute_result",
          "data": {
            "text/plain": [
              "(159571,)"
            ]
          },
          "metadata": {
            "tags": []
          },
          "execution_count": 15
        }
      ]
    },
    {
      "cell_type": "markdown",
      "metadata": {
        "id": "4hfLawRyVMtu"
      },
      "source": [
        "Removing stopwords"
      ]
    },
    {
      "cell_type": "code",
      "metadata": {
        "colab": {
          "base_uri": "https://localhost:8080/"
        },
        "id": "aSVnPXVzWaEH",
        "outputId": "cb4c8816-ba06-4864-f08a-86b11c74f25c"
      },
      "source": [
        "nltk.download(\"stopwords\")\r\n",
        "nltk.download('punkt')\r\n",
        "stop_words = stopwords.words('english')\r\n",
        "\r\n",
        "for i in range(train_comment.shape[0]): \r\n",
        "  train_comment[i] = train_comment[i].lower()\r\n",
        "  word_tokens = word_tokenize(train_comment[i])\r\n",
        "  word_tokens = list(filter(lambda token: token not in string.punctuation, word_tokens))\r\n",
        "  for w in word_tokens: \r\n",
        "    if w in stop_words: \r\n",
        "        train_comment[i] = train_comment[i].replace(w, '') \r\n"
      ],
      "execution_count": null,
      "outputs": [
        {
          "output_type": "stream",
          "text": [
            "[nltk_data] Downloading package stopwords to /root/nltk_data...\n",
            "[nltk_data]   Unzipping corpora/stopwords.zip.\n",
            "[nltk_data] Downloading package punkt to /root/nltk_data...\n",
            "[nltk_data]   Unzipping tokenizers/punkt.zip.\n"
          ],
          "name": "stdout"
        }
      ]
    },
    {
      "cell_type": "markdown",
      "metadata": {
        "id": "ZKA4T2xaVQZW"
      },
      "source": [
        "Lemmatization"
      ]
    },
    {
      "cell_type": "code",
      "metadata": {
        "colab": {
          "base_uri": "https://localhost:8080/"
        },
        "id": "KJ-OnHvZHQGw",
        "outputId": "abcdf471-d043-4cc6-be95-3e1a0862f632"
      },
      "source": [
        "nltk.download('wordnet')\r\n",
        "for i in range(train_comment.shape[0]):\r\n",
        "  word_tokens = word_tokenize(train_comment[i])\r\n",
        "  corpous = []\r\n",
        "  for w in word_tokens:\r\n",
        "      word1 = lemmatizer.lemmatize(w, pos = \"n\") # ADJ, ADJ_SAT, ADV, NOUN, VERB = 'a', 's', 'r', 'n', 'v'\r\n",
        "      word2 = lemmatizer.lemmatize(word1, pos = \"v\")\r\n",
        "      word3 = lemmatizer.lemmatize(word2, pos = \"s\")\r\n",
        "      word4 = lemmatizer.lemmatize(word3, pos = (\"a\"))\r\n",
        "      corpous.append(word4)\r\n",
        "      train_comment[i] = ' '.join(corpous)"
      ],
      "execution_count": null,
      "outputs": [
        {
          "output_type": "stream",
          "text": [
            "[nltk_data] Downloading package wordnet to /root/nltk_data...\n",
            "[nltk_data]   Unzipping corpora/wordnet.zip.\n"
          ],
          "name": "stdout"
        }
      ]
    },
    {
      "cell_type": "code",
      "metadata": {
        "id": "gmfI_dRvXxw4"
      },
      "source": [
        "import tensorflow\r\n",
        "from tensorflow.keras.preprocessing.text import Tokenizer\r\n",
        "from tensorflow.keras.preprocessing import text,sequence\r\n",
        "tokenizer=Tokenizer(num_words=25000,filters='!\"#$%&()*+,-./:;<=>?@[\\\\]^_`{|}~\\t\\n')\r\n",
        "#Updates internal vocabulary based on a list of texts.\r\n",
        "#In the case where texts contains lists, we assume each entry of the lists to be a token.\r\n",
        "tokenizer.fit_on_texts(list(train_comment))\r\n",
        "seqe=tokenizer.texts_to_sequences(train_comment)#Transforms each text in texts to a sequence of integers.\r\n",
        "#Only top num_words-1 most frequent words will be taken into account. Only words known by the tokenizer will be taken into account\r\n",
        "\r\n",
        "pad=sequence.pad_sequences(seqe,maxlen=150)"
      ],
      "execution_count": null,
      "outputs": []
    },
    {
      "cell_type": "code",
      "metadata": {
        "id": "tGh4v5DZ8__J"
      },
      "source": [
        "from tensorflow.keras.layers import Dense,Activation, Embedding, LSTM, Bidirectional,Dropout\r\n",
        "from tensorflow.keras import Input, Model\r\n",
        "from tensorflow import keras\r\n",
        "from keras.models import Sequential\r\n",
        "\r\n",
        "model=Sequential()\r\n",
        "model.add(Embedding(25000,128,input_length=150))\r\n",
        "model.add(Bidirectional(LSTM(50)))\r\n",
        "model.add(Dense(50,activation=\"relu\"))\r\n",
        "model.add(Dropout(0.3))\r\n",
        "model.add(Dense(10,activation=\"relu\"))\r\n",
        "model.add(Dropout(0.1))\r\n",
        "model.add(Dense(6,activation=\"softmax\"))"
      ],
      "execution_count": null,
      "outputs": []
    },
    {
      "cell_type": "code",
      "metadata": {
        "colab": {
          "base_uri": "https://localhost:8080/"
        },
        "id": "C5nV1gtg8_7m",
        "outputId": "a2fe6a43-4c2c-4df8-ffaa-cc7ae3fcf005"
      },
      "source": [
        "model.summary()\r\n"
      ],
      "execution_count": null,
      "outputs": [
        {
          "output_type": "stream",
          "text": [
            "Model: \"sequential\"\n",
            "_________________________________________________________________\n",
            "Layer (type)                 Output Shape              Param #   \n",
            "=================================================================\n",
            "embedding (Embedding)        (None, 150, 128)          3200000   \n",
            "_________________________________________________________________\n",
            "bidirectional (Bidirectional (None, 100)               71600     \n",
            "_________________________________________________________________\n",
            "dense (Dense)                (None, 50)                5050      \n",
            "_________________________________________________________________\n",
            "dropout (Dropout)            (None, 50)                0         \n",
            "_________________________________________________________________\n",
            "dense_1 (Dense)              (None, 10)                510       \n",
            "_________________________________________________________________\n",
            "dropout_1 (Dropout)          (None, 10)                0         \n",
            "_________________________________________________________________\n",
            "dense_2 (Dense)              (None, 6)                 66        \n",
            "=================================================================\n",
            "Total params: 3,277,226\n",
            "Trainable params: 3,277,226\n",
            "Non-trainable params: 0\n",
            "_________________________________________________________________\n"
          ],
          "name": "stdout"
        }
      ]
    },
    {
      "cell_type": "code",
      "metadata": {
        "id": "qvevP9dWBVgU"
      },
      "source": [
        "model.compile(loss='binary_crossentropy',optimizer='adam',metrics=['accuracy'])\r\n"
      ],
      "execution_count": null,
      "outputs": []
    },
    {
      "cell_type": "code",
      "metadata": {
        "colab": {
          "base_uri": "https://localhost:8080/"
        },
        "id": "3ljG2Su_Xbl3",
        "outputId": "6d708979-fc75-4206-ee28-025f1631185c"
      },
      "source": [
        "model.fit(pad,output_labels,batch_size=64,epochs=3,validation_split=0.2)"
      ],
      "execution_count": null,
      "outputs": [
        {
          "output_type": "stream",
          "text": [
            "Epoch 1/3\n",
            "1995/1995 [==============================] - 112s 51ms/step - loss: 0.1337 - accuracy: 0.7479 - val_loss: 0.0577 - val_accuracy: 0.9945\n",
            "Epoch 2/3\n",
            "1995/1995 [==============================] - 101s 50ms/step - loss: 0.0533 - accuracy: 0.9921 - val_loss: 0.0567 - val_accuracy: 0.9945\n",
            "Epoch 3/3\n",
            "1995/1995 [==============================] - 100s 50ms/step - loss: 0.0455 - accuracy: 0.9941 - val_loss: 0.0612 - val_accuracy: 0.9945\n"
          ],
          "name": "stdout"
        },
        {
          "output_type": "execute_result",
          "data": {
            "text/plain": [
              "<tensorflow.python.keras.callbacks.History at 0x7f67100cb7b8>"
            ]
          },
          "metadata": {
            "tags": []
          },
          "execution_count": 22
        }
      ]
    },
    {
      "cell_type": "code",
      "metadata": {
        "id": "wueDtYQgXg6K"
      },
      "source": [
        "X_test = test_data['comment_text'].values\r\n",
        "test_seq = tokenizer.texts_to_sequences(X_test)\r\n",
        "test_pad = sequence.pad_sequences(test_seq, maxlen=150)"
      ],
      "execution_count": null,
      "outputs": []
    },
    {
      "cell_type": "code",
      "metadata": {
        "colab": {
          "base_uri": "https://localhost:8080/"
        },
        "id": "7Yp_-QrlZMPB",
        "outputId": "b21af96f-f3d3-424f-b28b-3757d82fe81d"
      },
      "source": [
        "y_test = model.predict([test_pad], batch_size=1000, verbose=1)"
      ],
      "execution_count": null,
      "outputs": [
        {
          "output_type": "stream",
          "text": [
            "154/154 [==============================] - 6s 35ms/step\n"
          ],
          "name": "stdout"
        }
      ]
    },
    {
      "cell_type": "code",
      "metadata": {
        "colab": {
          "base_uri": "https://localhost:8080/"
        },
        "id": "Ecvt05gkZV_N",
        "outputId": "5707a4c0-9ae3-4252-863d-a0ecaaf025c9"
      },
      "source": [
        "model.evaluate(test_pad, y_test, batch_size=80, verbose=2)"
      ],
      "execution_count": null,
      "outputs": [
        {
          "output_type": "stream",
          "text": [
            "1915/1915 - 17s - loss: 1.0135 - accuracy: 1.0000\n"
          ],
          "name": "stdout"
        },
        {
          "output_type": "execute_result",
          "data": {
            "text/plain": [
              "[1.0135135650634766, 1.0]"
            ]
          },
          "metadata": {
            "tags": []
          },
          "execution_count": 25
        }
      ]
    },
    {
      "cell_type": "code",
      "metadata": {
        "colab": {
          "base_uri": "https://localhost:8080/"
        },
        "id": "6UirQaCBZY7k",
        "outputId": "7f934fcd-0ba9-4295-f6fd-883f333dbd60"
      },
      "source": [
        "sample=['are you insane']\r\n",
        "tok = Tokenizer(num_words=25000)\r\n",
        "tok.fit_on_texts(list(sample))\r\n",
        "seqt = tok.texts_to_sequences(sample)\r\n",
        "padt = sequence.pad_sequences(seqt, maxlen=150)\r\n",
        "output=model.predict([padt],verbose=1)"
      ],
      "execution_count": null,
      "outputs": [
        {
          "output_type": "stream",
          "text": [
            "1/1 [==============================] - 0s 16ms/step\n"
          ],
          "name": "stdout"
        }
      ]
    },
    {
      "cell_type": "code",
      "metadata": {
        "colab": {
          "base_uri": "https://localhost:8080/"
        },
        "id": "z8m6_Wv5Z3K5",
        "outputId": "e1cbc24e-cfa7-485a-cef9-ef9f3446e07f"
      },
      "source": [
        "output"
      ],
      "execution_count": null,
      "outputs": [
        {
          "output_type": "execute_result",
          "data": {
            "text/plain": [
              "array([[8.3078349e-01, 1.4287788e-05, 8.5624725e-02, 7.3273567e-04,\n",
              "        7.9173237e-02, 3.6715097e-03]], dtype=float32)"
            ]
          },
          "metadata": {
            "tags": []
          },
          "execution_count": 27
        }
      ]
    },
    {
      "cell_type": "code",
      "metadata": {
        "id": "a9E1xwdcT1VJ"
      },
      "source": [
        "model.save('model_file.h5')"
      ],
      "execution_count": null,
      "outputs": []
    },
    {
      "cell_type": "code",
      "metadata": {
        "id": "Je4iYMEAMwBP"
      },
      "source": [
        ""
      ],
      "execution_count": null,
      "outputs": []
    }
  ]
}