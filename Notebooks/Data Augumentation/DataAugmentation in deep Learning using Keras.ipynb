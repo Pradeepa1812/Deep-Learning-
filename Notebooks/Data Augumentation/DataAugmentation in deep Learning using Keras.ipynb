{
  "nbformat": 4,
  "nbformat_minor": 0,
  "metadata": {
    "colab": {
      "name": "Untitled0.ipynb",
      "provenance": [],
      "collapsed_sections": []
    },
    "kernelspec": {
      "name": "python3",
      "display_name": "Python 3"
    }
  },
  "cells": [
    {
      "cell_type": "code",
      "metadata": {
        "id": "gw3x8f2Gw-Dt",
        "colab_type": "code",
        "outputId": "3d912ac0-bce8-42d4-9bbd-13450e56e341",
        "colab": {
          "base_uri": "https://localhost:8080/",
          "height": 34
        }
      },
      "source": [
        "from keras.preprocessing.image import ImageDataGenerator,array_to_img,img_to_array,load_img"
      ],
      "execution_count": 0,
      "outputs": [
        {
          "output_type": "stream",
          "text": [
            "Using TensorFlow backend.\n"
          ],
          "name": "stderr"
        }
      ]
    },
    {
      "cell_type": "code",
      "metadata": {
        "id": "efOvCIplDiuF",
        "colab_type": "code",
        "colab": {}
      },
      "source": [
        "#img_to_array===converting a loaded image to PIL format\n",
        "#array_to_img=converting pixel data into PIL image\n",
        "#PIL=Python Imaging Library (saving different image file formats)"
      ],
      "execution_count": 0,
      "outputs": []
    },
    {
      "cell_type": "code",
      "metadata": {
        "id": "E4S8u-5oxEwF",
        "colab_type": "code",
        "colab": {}
      },
      "source": [
        "from PIL import Image"
      ],
      "execution_count": 0,
      "outputs": []
    },
    {
      "cell_type": "code",
      "metadata": {
        "id": "C1vshftuxJBk",
        "colab_type": "code",
        "colab": {}
      },
      "source": [
        "data=ImageDataGenerator(rotation_range=40,\n",
        "                        width_shift_range=0.2,\n",
        "                        height_shift_range=0.2,\n",
        "                        shear_range=0.2,\n",
        "                        zoom_range=0.2,\n",
        "                        horizontal_flip=True,\n",
        "                        vertical_flip=True,\n",
        "                        fill_mode='nearest')\n",
        "img=load_img('/content/drive/My Drive/dog/dog.jpg')\n",
        "x=img_to_array(img)\n",
        "x=x.reshape((1,)+x.shape)\n",
        "\n",
        "i=0\n",
        "for batch in data.flow(x,batch_size=1,save_to_dir='/content/drive/My Drive/dog',\n",
        "                       save_prefix='dog ',save_format='png'\n",
        "                       ):\n",
        "  #condition for how many pic  need\n",
        "    i=i+1\n",
        "    if i>10:\n",
        "      break"
      ],
      "execution_count": 0,
      "outputs": []
    },
    {
      "cell_type": "code",
      "metadata": {
        "id": "4RG3So-gLMMD",
        "colab_type": "code",
        "colab": {}
      },
      "source": [
        ""
      ],
      "execution_count": 0,
      "outputs": []
    },
    {
      "cell_type": "code",
      "metadata": {
        "id": "UKFnLAMRx9IW",
        "colab_type": "code",
        "colab": {}
      },
      "source": [
        ""
      ],
      "execution_count": 0,
      "outputs": []
    }
  ]
}